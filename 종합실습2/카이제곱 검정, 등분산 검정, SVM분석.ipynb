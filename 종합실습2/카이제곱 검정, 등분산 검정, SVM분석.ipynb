{
 "cells": [
  {
   "cell_type": "code",
   "execution_count": 57,
   "id": "90389325",
   "metadata": {},
   "outputs": [
    {
     "data": {
      "text/html": [
       "<div>\n",
       "<style scoped>\n",
       "    .dataframe tbody tr th:only-of-type {\n",
       "        vertical-align: middle;\n",
       "    }\n",
       "\n",
       "    .dataframe tbody tr th {\n",
       "        vertical-align: top;\n",
       "    }\n",
       "\n",
       "    .dataframe thead th {\n",
       "        text-align: right;\n",
       "    }\n",
       "</style>\n",
       "<table border=\"1\" class=\"dataframe\">\n",
       "  <thead>\n",
       "    <tr style=\"text-align: right;\">\n",
       "      <th></th>\n",
       "      <th>scale</th>\n",
       "      <th>steel_kind</th>\n",
       "      <th>pt_thick</th>\n",
       "      <th>pt_width</th>\n",
       "      <th>pt_length</th>\n",
       "      <th>hsb</th>\n",
       "      <th>fur_heat_temp</th>\n",
       "      <th>fur_heat_time</th>\n",
       "      <th>fur_soak_temp</th>\n",
       "      <th>fur_soak_time</th>\n",
       "      <th>rolling_method</th>\n",
       "      <th>rolling_temp</th>\n",
       "      <th>descaling_count</th>\n",
       "      <th>fur_preheat_time</th>\n",
       "      <th>furnace</th>\n",
       "    </tr>\n",
       "  </thead>\n",
       "  <tbody>\n",
       "    <tr>\n",
       "      <th>0</th>\n",
       "      <td>0</td>\n",
       "      <td>T</td>\n",
       "      <td>32</td>\n",
       "      <td>3700</td>\n",
       "      <td>15100</td>\n",
       "      <td>적용</td>\n",
       "      <td>1144</td>\n",
       "      <td>116</td>\n",
       "      <td>1133</td>\n",
       "      <td>59</td>\n",
       "      <td>TMCP(온도제어)</td>\n",
       "      <td>934</td>\n",
       "      <td>8</td>\n",
       "      <td>84</td>\n",
       "      <td>1호기1열</td>\n",
       "    </tr>\n",
       "    <tr>\n",
       "      <th>1</th>\n",
       "      <td>0</td>\n",
       "      <td>T</td>\n",
       "      <td>32</td>\n",
       "      <td>3700</td>\n",
       "      <td>15100</td>\n",
       "      <td>적용</td>\n",
       "      <td>1144</td>\n",
       "      <td>122</td>\n",
       "      <td>1135</td>\n",
       "      <td>53</td>\n",
       "      <td>TMCP(온도제어)</td>\n",
       "      <td>937</td>\n",
       "      <td>8</td>\n",
       "      <td>63</td>\n",
       "      <td>1호기2열</td>\n",
       "    </tr>\n",
       "    <tr>\n",
       "      <th>2</th>\n",
       "      <td>0</td>\n",
       "      <td>T</td>\n",
       "      <td>33</td>\n",
       "      <td>3600</td>\n",
       "      <td>19200</td>\n",
       "      <td>적용</td>\n",
       "      <td>1129</td>\n",
       "      <td>116</td>\n",
       "      <td>1121</td>\n",
       "      <td>55</td>\n",
       "      <td>TMCP(온도제어)</td>\n",
       "      <td>889</td>\n",
       "      <td>8</td>\n",
       "      <td>87</td>\n",
       "      <td>2호기1열</td>\n",
       "    </tr>\n",
       "    <tr>\n",
       "      <th>3</th>\n",
       "      <td>0</td>\n",
       "      <td>T</td>\n",
       "      <td>33</td>\n",
       "      <td>3600</td>\n",
       "      <td>19200</td>\n",
       "      <td>적용</td>\n",
       "      <td>1152</td>\n",
       "      <td>125</td>\n",
       "      <td>1127</td>\n",
       "      <td>68</td>\n",
       "      <td>TMCP(온도제어)</td>\n",
       "      <td>885</td>\n",
       "      <td>8</td>\n",
       "      <td>73</td>\n",
       "      <td>2호기2열</td>\n",
       "    </tr>\n",
       "    <tr>\n",
       "      <th>4</th>\n",
       "      <td>0</td>\n",
       "      <td>T</td>\n",
       "      <td>38</td>\n",
       "      <td>3100</td>\n",
       "      <td>13300</td>\n",
       "      <td>적용</td>\n",
       "      <td>1140</td>\n",
       "      <td>134</td>\n",
       "      <td>1128</td>\n",
       "      <td>48</td>\n",
       "      <td>TMCP(온도제어)</td>\n",
       "      <td>873</td>\n",
       "      <td>8</td>\n",
       "      <td>64</td>\n",
       "      <td>3호기1열</td>\n",
       "    </tr>\n",
       "  </tbody>\n",
       "</table>\n",
       "</div>"
      ],
      "text/plain": [
       "   scale steel_kind  pt_thick  pt_width  pt_length hsb  fur_heat_temp  \\\n",
       "0      0          T        32      3700      15100  적용           1144   \n",
       "1      0          T        32      3700      15100  적용           1144   \n",
       "2      0          T        33      3600      19200  적용           1129   \n",
       "3      0          T        33      3600      19200  적용           1152   \n",
       "4      0          T        38      3100      13300  적용           1140   \n",
       "\n",
       "   fur_heat_time  fur_soak_temp  fur_soak_time rolling_method  rolling_temp  \\\n",
       "0            116           1133             59     TMCP(온도제어)           934   \n",
       "1            122           1135             53     TMCP(온도제어)           937   \n",
       "2            116           1121             55     TMCP(온도제어)           889   \n",
       "3            125           1127             68     TMCP(온도제어)           885   \n",
       "4            134           1128             48     TMCP(온도제어)           873   \n",
       "\n",
       "   descaling_count  fur_preheat_time furnace  \n",
       "0                8                84   1호기1열  \n",
       "1                8                63   1호기2열  \n",
       "2                8                87   2호기1열  \n",
       "3                8                73   2호기2열  \n",
       "4                8                64   3호기1열  "
      ]
     },
     "execution_count": 57,
     "metadata": {},
     "output_type": "execute_result"
    }
   ],
   "source": [
    "import pandas as pd\n",
    "import numpy as np\n",
    "\n",
    "import matplotlib\n",
    "import matplotlib.pyplot as plt\n",
    "import seaborn as sns\n",
    "\n",
    "from scipy.stats import chi2_contingency\n",
    "%matplotlib inline\n",
    "\n",
    "import warnings\n",
    "warnings.filterwarnings('ignore')\n",
    "\n",
    "df = pd.read_csv(\"/home/piai/preprocessed_scale.csv\")\n",
    "df.head()"
   ]
  },
  {
   "cell_type": "markdown",
   "id": "d560f351",
   "metadata": {},
   "source": [
    "카이제곱 검정"
   ]
  },
  {
   "cell_type": "markdown",
   "id": "4627a92a",
   "metadata": {},
   "source": [
    "scale과 steel_kind 카이제곱 검정 "
   ]
  },
  {
   "cell_type": "code",
   "execution_count": 27,
   "id": "f1ad1326",
   "metadata": {},
   "outputs": [
    {
     "data": {
      "text/plain": [
       "0      0\n",
       "1      0\n",
       "2      0\n",
       "3      0\n",
       "4      0\n",
       "      ..\n",
       "989    0\n",
       "990    0\n",
       "991    0\n",
       "992    0\n",
       "993    0\n",
       "Name: scale, Length: 994, dtype: int64"
      ]
     },
     "execution_count": 27,
     "metadata": {},
     "output_type": "execute_result"
    }
   ],
   "source": [
    "df_scale = df['scale']\n",
    "df_scale"
   ]
  },
  {
   "cell_type": "code",
   "execution_count": 11,
   "id": "37cb5c32",
   "metadata": {},
   "outputs": [
    {
     "data": {
      "text/plain": [
       "0      T\n",
       "1      T\n",
       "2      T\n",
       "3      T\n",
       "4      T\n",
       "      ..\n",
       "995    C\n",
       "996    C\n",
       "997    C\n",
       "998    C\n",
       "999    C\n",
       "Name: steel_kind, Length: 1000, dtype: object"
      ]
     },
     "execution_count": 11,
     "metadata": {},
     "output_type": "execute_result"
    }
   ],
   "source": [
    "df_steel_kind = df['steel_kind']\n",
    "df_steel_kind"
   ]
  },
  {
   "cell_type": "code",
   "execution_count": 34,
   "id": "f4dd703f",
   "metadata": {},
   "outputs": [
    {
     "name": "stdout",
     "output_type": "stream",
     "text": [
      "Chi-squared Statistic: 78.89479838930058\n",
      "p-value: 6.550700807797746e-19\n",
      "Degrees of Freedom: 1\n",
      "Expected Frequencies:\n",
      " [[515.4084507 168.5915493]\n",
      " [233.5915493  76.4084507]]\n"
     ]
    }
   ],
   "source": [
    "contingency_table = pd.crosstab(df_scale, df_steel_kind)\n",
    "\n",
    "chi2, p, dof, expected = chi2_contingency(contingency_table)\n",
    "\n",
    "# 결과 출력\n",
    "print(\"Chi-squared Statistic:\", chi2)\n",
    "print(\"p-value:\", p)\n",
    "print(\"Degrees of Freedom:\", dof)\n",
    "print(\"Expected Frequencies:\\n\", expected)"
   ]
  },
  {
   "cell_type": "markdown",
   "id": "b75f103a",
   "metadata": {},
   "source": [
    "p-value가 6.55×10−19로, 일반적인 유의 수준(예: 0.05)로 0.05보다 훨씬 작음. 따라서,  df_scale과 df_steel_kind 변수 간에 통계적으로 \n",
    "유의미한 관계가 있음을 의미"
   ]
  },
  {
   "cell_type": "markdown",
   "id": "7efe7dda",
   "metadata": {},
   "source": [
    "scale과 steel_hsb 카이제곱 검정 "
   ]
  },
  {
   "cell_type": "code",
   "execution_count": 40,
   "id": "c8034452",
   "metadata": {},
   "outputs": [
    {
     "data": {
      "text/plain": [
       "0      적용\n",
       "1      적용\n",
       "2      적용\n",
       "3      적용\n",
       "4      적용\n",
       "       ..\n",
       "989    적용\n",
       "990    적용\n",
       "991    적용\n",
       "992    적용\n",
       "993    적용\n",
       "Name: hsb, Length: 994, dtype: object"
      ]
     },
     "execution_count": 40,
     "metadata": {},
     "output_type": "execute_result"
    }
   ],
   "source": [
    "df_steel_hsb = df['hsb']\n",
    "df_steel_hsb"
   ]
  },
  {
   "cell_type": "code",
   "execution_count": 41,
   "id": "33e7725f",
   "metadata": {
    "scrolled": true
   },
   "outputs": [
    {
     "name": "stdout",
     "output_type": "stream",
     "text": [
      "적용     947\n",
      "미적용     47\n",
      "Name: hsb, dtype: int64\n"
     ]
    }
   ],
   "source": [
    "value_counts = df['hsb'].value_counts()\n",
    "print(value_counts)"
   ]
  },
  {
   "cell_type": "code",
   "execution_count": 42,
   "id": "e2cb3c32",
   "metadata": {
    "scrolled": true
   },
   "outputs": [
    {
     "name": "stdout",
     "output_type": "stream",
     "text": [
      "Chi-squared Statistic: 105.51048606504317\n",
      "p-value: 9.439705302426995e-25\n",
      "Degrees of Freedom: 1\n",
      "Expected Frequencies:\n",
      " [[ 32.34205231 651.65794769]\n",
      " [ 14.65794769 295.34205231]]\n"
     ]
    }
   ],
   "source": [
    "contingency_table = pd.crosstab(df_scale, df_steel_hsb)\n",
    "\n",
    "chi2, p, dof, expected = chi2_contingency(contingency_table)\n",
    "\n",
    "# 결과 출력\n",
    "print(\"Chi-squared Statistic:\", chi2)\n",
    "print(\"p-value:\", p)\n",
    "print(\"Degrees of Freedom:\", dof)\n",
    "print(\"Expected Frequencies:\\n\", expected)"
   ]
  },
  {
   "cell_type": "markdown",
   "id": "dac4ad79",
   "metadata": {},
   "source": [
    "p-value가 9.44e-25로, 유의 수준(일반적으로 0.05)보다 훨씬 작으므로, df_scale과 df_steel_hsb 변수 간에 통계적으로 유의미한 관계가 있다"
   ]
  },
  {
   "cell_type": "markdown",
   "id": "d4e15103",
   "metadata": {},
   "source": [
    "scale과 furnace 카이제곱 검정 "
   ]
  },
  {
   "cell_type": "code",
   "execution_count": 44,
   "id": "d28a1a6a",
   "metadata": {},
   "outputs": [
    {
     "name": "stdout",
     "output_type": "stream",
     "text": [
      "3호기1열    176\n",
      "1호기2열    174\n",
      "2호기1열    171\n",
      "3호기2열    162\n",
      "1호기1열    158\n",
      "2호기2열    153\n",
      "Name: furnace, dtype: int64\n"
     ]
    }
   ],
   "source": [
    "value_counts = df['furnace'].value_counts()\n",
    "print(value_counts)"
   ]
  },
  {
   "cell_type": "code",
   "execution_count": 46,
   "id": "7e12a97e",
   "metadata": {},
   "outputs": [
    {
     "data": {
      "text/plain": [
       "0      1호기1열\n",
       "1      1호기2열\n",
       "2      2호기1열\n",
       "3      2호기2열\n",
       "4      3호기1열\n",
       "       ...  \n",
       "989    1호기2열\n",
       "990    1호기2열\n",
       "991    2호기2열\n",
       "992    2호기2열\n",
       "993    3호기1열\n",
       "Name: furnace, Length: 994, dtype: object"
      ]
     },
     "execution_count": 46,
     "metadata": {},
     "output_type": "execute_result"
    }
   ],
   "source": [
    "df_steel_fur_no = df['furnace']\n",
    "df_steel_fur_no"
   ]
  },
  {
   "cell_type": "code",
   "execution_count": 47,
   "id": "7786f736",
   "metadata": {
    "scrolled": true
   },
   "outputs": [
    {
     "name": "stdout",
     "output_type": "stream",
     "text": [
      "Chi-squared Statistic: 7.67460098873368\n",
      "p-value: 0.1751043391036752\n",
      "Degrees of Freedom: 5\n",
      "Expected Frequencies:\n",
      " [[108.72434608 119.73440644 117.67002012 105.28370221 121.11066398\n",
      "  111.47686117]\n",
      " [ 49.27565392  54.26559356  53.32997988  47.71629779  54.88933602\n",
      "   50.52313883]]\n"
     ]
    }
   ],
   "source": [
    "contingency_table = pd.crosstab(df_scale, df_steel_fur_no)\n",
    "\n",
    "chi2, p, dof, expected = chi2_contingency(contingency_table)\n",
    "\n",
    "# 결과 출력\n",
    "print(\"Chi-squared Statistic:\", chi2)\n",
    "print(\"p-value:\", p)\n",
    "print(\"Degrees of Freedom:\", dof)\n",
    "print(\"Expected Frequencies:\\n\", expected)"
   ]
  },
  {
   "cell_type": "markdown",
   "id": "e642bfb6",
   "metadata": {},
   "source": [
    "p-value가 0.175로, 일반적인 유의 수준(예: 0.05)보다 크므로, df_scale과 df_steel_hsb 변수 간에 통계적으로 유의미한 관계가 없다"
   ]
  },
  {
   "cell_type": "markdown",
   "id": "38d14bcc",
   "metadata": {},
   "source": [
    "scale과 rolling_method 카이제곱 검정 "
   ]
  },
  {
   "cell_type": "code",
   "execution_count": 48,
   "id": "42d7ce45",
   "metadata": {},
   "outputs": [
    {
     "name": "stdout",
     "output_type": "stream",
     "text": [
      "CR(제어압연)      836\n",
      "TMCP(온도제어)    158\n",
      "Name: rolling_method, dtype: int64\n"
     ]
    }
   ],
   "source": [
    "value_counts = df['rolling_method'].value_counts()\n",
    "print(value_counts)"
   ]
  },
  {
   "cell_type": "code",
   "execution_count": 49,
   "id": "5eead24e",
   "metadata": {},
   "outputs": [
    {
     "data": {
      "text/plain": [
       "0      TMCP(온도제어)\n",
       "1      TMCP(온도제어)\n",
       "2      TMCP(온도제어)\n",
       "3      TMCP(온도제어)\n",
       "4      TMCP(온도제어)\n",
       "          ...    \n",
       "989      CR(제어압연)\n",
       "990      CR(제어압연)\n",
       "991      CR(제어압연)\n",
       "992      CR(제어압연)\n",
       "993      CR(제어압연)\n",
       "Name: rolling_method, Length: 994, dtype: object"
      ]
     },
     "execution_count": 49,
     "metadata": {},
     "output_type": "execute_result"
    }
   ],
   "source": [
    "df_steel_rolling_method = df['rolling_method']\n",
    "df_steel_rolling_method "
   ]
  },
  {
   "cell_type": "code",
   "execution_count": 50,
   "id": "3805a8ce",
   "metadata": {},
   "outputs": [
    {
     "name": "stdout",
     "output_type": "stream",
     "text": [
      "Chi-squared Statistic: 44.88003167017692\n",
      "p-value: 2.0948325380804966e-11\n",
      "Degrees of Freedom: 1\n",
      "Expected Frequencies:\n",
      " [[575.27565392 108.72434608]\n",
      " [260.72434608  49.27565392]]\n"
     ]
    }
   ],
   "source": [
    "contingency_table = pd.crosstab(df_scale, df_steel_rolling_method)\n",
    "\n",
    "chi2, p, dof, expected = chi2_contingency(contingency_table)\n",
    "\n",
    "# 결과 출력\n",
    "print(\"Chi-squared Statistic:\", chi2)\n",
    "print(\"p-value:\", p)\n",
    "print(\"Degrees of Freedom:\", dof)\n",
    "print(\"Expected Frequencies:\\n\", expected)"
   ]
  },
  {
   "cell_type": "markdown",
   "id": "1b5f2809",
   "metadata": {},
   "source": [
    "p-value가 2.094e-11로, 일반적인 유의 수준(예: 0.05)보다 훨씬 작으므로, df_scale과 df_steel_hsb 변수 간에 통계적으로 유의미한 관계가 있다"
   ]
  },
  {
   "cell_type": "markdown",
   "id": "dddf7ac1",
   "metadata": {},
   "source": [
    "등분산성 검정 "
   ]
  },
  {
   "cell_type": "code",
   "execution_count": 56,
   "id": "de639334",
   "metadata": {
    "scrolled": false
   },
   "outputs": [
    {
     "name": "stdout",
     "output_type": "stream",
     "text": [
      "\n",
      "등분산성 검정 결과:\n",
      "           Category  Levene Stat  Levene p-value\n",
      "0          pt_thick     3.489261    2.012906e-13\n",
      "1          pt_width     3.989145    3.475183e-11\n",
      "2     fur_heat_temp     1.070799    3.083869e-01\n",
      "3     fur_heat_time     0.898958    7.455132e-01\n",
      "4         pt_length     0.743773    9.979552e-01\n",
      "5     fur_soak_temp     2.379546    9.584696e-09\n",
      "6     fur_soak_time     1.150656    1.601891e-01\n",
      "7      rolling_temp     0.957978    6.474176e-01\n",
      "8   descaling_count    24.877910    1.150331e-23\n",
      "9  fur_preheat_time     0.647854    9.738107e-01\n"
     ]
    }
   ],
   "source": [
    "import scipy.stats as stats\n",
    "\n",
    "# 범주형 변수 목록\n",
    "categorical_vars = ['pt_thick', 'pt_width', 'fur_heat_temp', 'fur_heat_time', 'pt_length', 'fur_soak_temp', 'fur_soak_time', 'rolling_temp', 'descaling_count','fur_preheat_time']\n",
    "\n",
    "# 등분산성 검정 결과 저장용 데이터프레임\n",
    "homogeneity_results = pd.DataFrame(columns=['Category', 'Levene Stat', 'Levene p-value'])\n",
    "\n",
    "# 등분산성 검정\n",
    "for i in categorical_vars:\n",
    "    groups = [group['scale'].values for name, group in df.groupby(i)]\n",
    "    levene_stat, levene_p = stats.levene(*groups)\n",
    "    homogeneity_results = homogeneity_results.append({\n",
    "        'Category': i,\n",
    "        'Levene Stat': levene_stat,\n",
    "        'Levene p-value': levene_p\n",
    "    }, ignore_index=True)\n",
    "\n",
    "print(\"\\n등분산성 검정 결과:\")\n",
    "print(homogeneity_results)"
   ]
  },
  {
   "cell_type": "markdown",
   "id": "8a01dd94",
   "metadata": {},
   "source": [
    "pt_thick, pt_width, fur_soak_temp, descaling_count는 그룹 간 분산이 통계적으로 유의미하게 다름 따라서, 등분산성을 만족하지 않음 \n",
    "fur_heat_temp, fur_heat_time, fur_soak_time, rolling_temp, fur_preheat_time는 범주 간 동일한 분산 "
   ]
  },
  {
   "cell_type": "markdown",
   "id": "c31a254d",
   "metadata": {},
   "source": [
    "SVM 분석"
   ]
  },
  {
   "cell_type": "code",
   "execution_count": 58,
   "id": "dba68bfc",
   "metadata": {},
   "outputs": [
    {
     "data": {
      "text/html": [
       "<div>\n",
       "<style scoped>\n",
       "    .dataframe tbody tr th:only-of-type {\n",
       "        vertical-align: middle;\n",
       "    }\n",
       "\n",
       "    .dataframe tbody tr th {\n",
       "        vertical-align: top;\n",
       "    }\n",
       "\n",
       "    .dataframe thead th {\n",
       "        text-align: right;\n",
       "    }\n",
       "</style>\n",
       "<table border=\"1\" class=\"dataframe\">\n",
       "  <thead>\n",
       "    <tr style=\"text-align: right;\">\n",
       "      <th></th>\n",
       "      <th>scale</th>\n",
       "      <th>pt_thick</th>\n",
       "      <th>pt_width</th>\n",
       "      <th>pt_length</th>\n",
       "      <th>fur_heat_temp</th>\n",
       "      <th>fur_heat_time</th>\n",
       "      <th>fur_soak_temp</th>\n",
       "      <th>fur_soak_time</th>\n",
       "      <th>rolling_temp</th>\n",
       "      <th>descaling_count</th>\n",
       "      <th>...</th>\n",
       "      <th>hsb_미적용</th>\n",
       "      <th>hsb_적용</th>\n",
       "      <th>rolling_method_CR(제어압연)</th>\n",
       "      <th>rolling_method_TMCP(온도제어)</th>\n",
       "      <th>furnace_1호기1열</th>\n",
       "      <th>furnace_1호기2열</th>\n",
       "      <th>furnace_2호기1열</th>\n",
       "      <th>furnace_2호기2열</th>\n",
       "      <th>furnace_3호기1열</th>\n",
       "      <th>furnace_3호기2열</th>\n",
       "    </tr>\n",
       "  </thead>\n",
       "  <tbody>\n",
       "    <tr>\n",
       "      <th>0</th>\n",
       "      <td>0</td>\n",
       "      <td>32</td>\n",
       "      <td>3700</td>\n",
       "      <td>15100</td>\n",
       "      <td>1144</td>\n",
       "      <td>116</td>\n",
       "      <td>1133</td>\n",
       "      <td>59</td>\n",
       "      <td>934</td>\n",
       "      <td>8</td>\n",
       "      <td>...</td>\n",
       "      <td>0</td>\n",
       "      <td>1</td>\n",
       "      <td>0</td>\n",
       "      <td>1</td>\n",
       "      <td>1</td>\n",
       "      <td>0</td>\n",
       "      <td>0</td>\n",
       "      <td>0</td>\n",
       "      <td>0</td>\n",
       "      <td>0</td>\n",
       "    </tr>\n",
       "    <tr>\n",
       "      <th>1</th>\n",
       "      <td>0</td>\n",
       "      <td>32</td>\n",
       "      <td>3700</td>\n",
       "      <td>15100</td>\n",
       "      <td>1144</td>\n",
       "      <td>122</td>\n",
       "      <td>1135</td>\n",
       "      <td>53</td>\n",
       "      <td>937</td>\n",
       "      <td>8</td>\n",
       "      <td>...</td>\n",
       "      <td>0</td>\n",
       "      <td>1</td>\n",
       "      <td>0</td>\n",
       "      <td>1</td>\n",
       "      <td>0</td>\n",
       "      <td>1</td>\n",
       "      <td>0</td>\n",
       "      <td>0</td>\n",
       "      <td>0</td>\n",
       "      <td>0</td>\n",
       "    </tr>\n",
       "    <tr>\n",
       "      <th>2</th>\n",
       "      <td>0</td>\n",
       "      <td>33</td>\n",
       "      <td>3600</td>\n",
       "      <td>19200</td>\n",
       "      <td>1129</td>\n",
       "      <td>116</td>\n",
       "      <td>1121</td>\n",
       "      <td>55</td>\n",
       "      <td>889</td>\n",
       "      <td>8</td>\n",
       "      <td>...</td>\n",
       "      <td>0</td>\n",
       "      <td>1</td>\n",
       "      <td>0</td>\n",
       "      <td>1</td>\n",
       "      <td>0</td>\n",
       "      <td>0</td>\n",
       "      <td>1</td>\n",
       "      <td>0</td>\n",
       "      <td>0</td>\n",
       "      <td>0</td>\n",
       "    </tr>\n",
       "    <tr>\n",
       "      <th>3</th>\n",
       "      <td>0</td>\n",
       "      <td>33</td>\n",
       "      <td>3600</td>\n",
       "      <td>19200</td>\n",
       "      <td>1152</td>\n",
       "      <td>125</td>\n",
       "      <td>1127</td>\n",
       "      <td>68</td>\n",
       "      <td>885</td>\n",
       "      <td>8</td>\n",
       "      <td>...</td>\n",
       "      <td>0</td>\n",
       "      <td>1</td>\n",
       "      <td>0</td>\n",
       "      <td>1</td>\n",
       "      <td>0</td>\n",
       "      <td>0</td>\n",
       "      <td>0</td>\n",
       "      <td>1</td>\n",
       "      <td>0</td>\n",
       "      <td>0</td>\n",
       "    </tr>\n",
       "    <tr>\n",
       "      <th>4</th>\n",
       "      <td>0</td>\n",
       "      <td>38</td>\n",
       "      <td>3100</td>\n",
       "      <td>13300</td>\n",
       "      <td>1140</td>\n",
       "      <td>134</td>\n",
       "      <td>1128</td>\n",
       "      <td>48</td>\n",
       "      <td>873</td>\n",
       "      <td>8</td>\n",
       "      <td>...</td>\n",
       "      <td>0</td>\n",
       "      <td>1</td>\n",
       "      <td>0</td>\n",
       "      <td>1</td>\n",
       "      <td>0</td>\n",
       "      <td>0</td>\n",
       "      <td>0</td>\n",
       "      <td>0</td>\n",
       "      <td>1</td>\n",
       "      <td>0</td>\n",
       "    </tr>\n",
       "  </tbody>\n",
       "</table>\n",
       "<p>5 rows × 23 columns</p>\n",
       "</div>"
      ],
      "text/plain": [
       "   scale  pt_thick  pt_width  pt_length  fur_heat_temp  fur_heat_time  \\\n",
       "0      0        32      3700      15100           1144            116   \n",
       "1      0        32      3700      15100           1144            122   \n",
       "2      0        33      3600      19200           1129            116   \n",
       "3      0        33      3600      19200           1152            125   \n",
       "4      0        38      3100      13300           1140            134   \n",
       "\n",
       "   fur_soak_temp  fur_soak_time  rolling_temp  descaling_count  ...  hsb_미적용  \\\n",
       "0           1133             59           934                8  ...        0   \n",
       "1           1135             53           937                8  ...        0   \n",
       "2           1121             55           889                8  ...        0   \n",
       "3           1127             68           885                8  ...        0   \n",
       "4           1128             48           873                8  ...        0   \n",
       "\n",
       "   hsb_적용  rolling_method_CR(제어압연)  rolling_method_TMCP(온도제어)  furnace_1호기1열  \\\n",
       "0       1                        0                          1              1   \n",
       "1       1                        0                          1              0   \n",
       "2       1                        0                          1              0   \n",
       "3       1                        0                          1              0   \n",
       "4       1                        0                          1              0   \n",
       "\n",
       "   furnace_1호기2열  furnace_2호기1열  furnace_2호기2열  furnace_3호기1열  furnace_3호기2열  \n",
       "0              0              0              0              0              0  \n",
       "1              1              0              0              0              0  \n",
       "2              0              1              0              0              0  \n",
       "3              0              0              1              0              0  \n",
       "4              0              0              0              1              0  \n",
       "\n",
       "[5 rows x 23 columns]"
      ]
     },
     "execution_count": 58,
     "metadata": {},
     "output_type": "execute_result"
    }
   ],
   "source": [
    "from sklearn.preprocessing import StandardScaler \n",
    "from sklearn.model_selection import train_test_split \n",
    "from sklearn.svm import SVC\n",
    "from sklearn.model_selection import GridSearchCV\n",
    "\n",
    "from sklearn.metrics import accuracy_score, f1_score\n",
    "from sklearn.metrics import confusion_matrix, classification_report \n",
    "\n",
    "df_raw_dummy = pd.get_dummies(df)\n",
    "df_raw_dummy.head()"
   ]
  },
  {
   "cell_type": "code",
   "execution_count": 74,
   "id": "7e45ed23",
   "metadata": {},
   "outputs": [
    {
     "data": {
      "text/html": [
       "<div>\n",
       "<style scoped>\n",
       "    .dataframe tbody tr th:only-of-type {\n",
       "        vertical-align: middle;\n",
       "    }\n",
       "\n",
       "    .dataframe tbody tr th {\n",
       "        vertical-align: top;\n",
       "    }\n",
       "\n",
       "    .dataframe thead th {\n",
       "        text-align: right;\n",
       "    }\n",
       "</style>\n",
       "<table border=\"1\" class=\"dataframe\">\n",
       "  <thead>\n",
       "    <tr style=\"text-align: right;\">\n",
       "      <th></th>\n",
       "      <th>scale</th>\n",
       "      <th>pt_thick</th>\n",
       "      <th>pt_width</th>\n",
       "      <th>pt_length</th>\n",
       "      <th>fur_heat_temp</th>\n",
       "      <th>fur_heat_time</th>\n",
       "      <th>fur_soak_temp</th>\n",
       "      <th>fur_soak_time</th>\n",
       "      <th>rolling_temp</th>\n",
       "      <th>descaling_count</th>\n",
       "      <th>...</th>\n",
       "      <th>hsb_미적용</th>\n",
       "      <th>hsb_적용</th>\n",
       "      <th>rolling_method_CR(제어압연)</th>\n",
       "      <th>rolling_method_TMCP(온도제어)</th>\n",
       "      <th>furnace_1호기1열</th>\n",
       "      <th>furnace_1호기2열</th>\n",
       "      <th>furnace_2호기1열</th>\n",
       "      <th>furnace_2호기2열</th>\n",
       "      <th>furnace_3호기1열</th>\n",
       "      <th>furnace_3호기2열</th>\n",
       "    </tr>\n",
       "  </thead>\n",
       "  <tbody>\n",
       "    <tr>\n",
       "      <th>0</th>\n",
       "      <td>0</td>\n",
       "      <td>0.297380</td>\n",
       "      <td>1.758916</td>\n",
       "      <td>-1.568542</td>\n",
       "      <td>-0.629006</td>\n",
       "      <td>1.138138</td>\n",
       "      <td>-1.042290</td>\n",
       "      <td>-0.617512</td>\n",
       "      <td>-0.098376</td>\n",
       "      <td>-0.353037</td>\n",
       "      <td>...</td>\n",
       "      <td>-0.222779</td>\n",
       "      <td>0.222779</td>\n",
       "      <td>-2.300248</td>\n",
       "      <td>2.300248</td>\n",
       "      <td>2.300248</td>\n",
       "      <td>-0.460646</td>\n",
       "      <td>-0.455825</td>\n",
       "      <td>-0.426528</td>\n",
       "      <td>-0.463852</td>\n",
       "      <td>-0.441261</td>\n",
       "    </tr>\n",
       "    <tr>\n",
       "      <th>1</th>\n",
       "      <td>0</td>\n",
       "      <td>0.297380</td>\n",
       "      <td>1.758916</td>\n",
       "      <td>-1.568542</td>\n",
       "      <td>-0.629006</td>\n",
       "      <td>1.365628</td>\n",
       "      <td>-0.926564</td>\n",
       "      <td>-0.908186</td>\n",
       "      <td>-0.051371</td>\n",
       "      <td>-0.353037</td>\n",
       "      <td>...</td>\n",
       "      <td>-0.222779</td>\n",
       "      <td>0.222779</td>\n",
       "      <td>-2.300248</td>\n",
       "      <td>2.300248</td>\n",
       "      <td>-0.434736</td>\n",
       "      <td>2.170862</td>\n",
       "      <td>-0.455825</td>\n",
       "      <td>-0.426528</td>\n",
       "      <td>-0.463852</td>\n",
       "      <td>-0.441261</td>\n",
       "    </tr>\n",
       "    <tr>\n",
       "      <th>2</th>\n",
       "      <td>0</td>\n",
       "      <td>0.352984</td>\n",
       "      <td>1.555807</td>\n",
       "      <td>-1.273013</td>\n",
       "      <td>-1.336122</td>\n",
       "      <td>1.138138</td>\n",
       "      <td>-1.736646</td>\n",
       "      <td>-0.811295</td>\n",
       "      <td>-0.803452</td>\n",
       "      <td>-0.353037</td>\n",
       "      <td>...</td>\n",
       "      <td>-0.222779</td>\n",
       "      <td>0.222779</td>\n",
       "      <td>-2.300248</td>\n",
       "      <td>2.300248</td>\n",
       "      <td>-0.434736</td>\n",
       "      <td>-0.460646</td>\n",
       "      <td>2.193824</td>\n",
       "      <td>-0.426528</td>\n",
       "      <td>-0.463852</td>\n",
       "      <td>-0.441261</td>\n",
       "    </tr>\n",
       "    <tr>\n",
       "      <th>3</th>\n",
       "      <td>0</td>\n",
       "      <td>0.352984</td>\n",
       "      <td>1.555807</td>\n",
       "      <td>-1.273013</td>\n",
       "      <td>-0.251878</td>\n",
       "      <td>1.479374</td>\n",
       "      <td>-1.389468</td>\n",
       "      <td>-0.181501</td>\n",
       "      <td>-0.866125</td>\n",
       "      <td>-0.353037</td>\n",
       "      <td>...</td>\n",
       "      <td>-0.222779</td>\n",
       "      <td>0.222779</td>\n",
       "      <td>-2.300248</td>\n",
       "      <td>2.300248</td>\n",
       "      <td>-0.434736</td>\n",
       "      <td>-0.460646</td>\n",
       "      <td>-0.455825</td>\n",
       "      <td>2.344511</td>\n",
       "      <td>-0.463852</td>\n",
       "      <td>-0.441261</td>\n",
       "    </tr>\n",
       "    <tr>\n",
       "      <th>4</th>\n",
       "      <td>0</td>\n",
       "      <td>0.631008</td>\n",
       "      <td>0.540262</td>\n",
       "      <td>-1.698287</td>\n",
       "      <td>-0.817571</td>\n",
       "      <td>1.820609</td>\n",
       "      <td>-1.331605</td>\n",
       "      <td>-1.150415</td>\n",
       "      <td>-1.054145</td>\n",
       "      <td>-0.353037</td>\n",
       "      <td>...</td>\n",
       "      <td>-0.222779</td>\n",
       "      <td>0.222779</td>\n",
       "      <td>-2.300248</td>\n",
       "      <td>2.300248</td>\n",
       "      <td>-0.434736</td>\n",
       "      <td>-0.460646</td>\n",
       "      <td>-0.455825</td>\n",
       "      <td>-0.426528</td>\n",
       "      <td>2.155859</td>\n",
       "      <td>-0.441261</td>\n",
       "    </tr>\n",
       "  </tbody>\n",
       "</table>\n",
       "<p>5 rows × 23 columns</p>\n",
       "</div>"
      ],
      "text/plain": [
       "   scale  pt_thick  pt_width  pt_length  fur_heat_temp  fur_heat_time  \\\n",
       "0      0  0.297380  1.758916  -1.568542      -0.629006       1.138138   \n",
       "1      0  0.297380  1.758916  -1.568542      -0.629006       1.365628   \n",
       "2      0  0.352984  1.555807  -1.273013      -1.336122       1.138138   \n",
       "3      0  0.352984  1.555807  -1.273013      -0.251878       1.479374   \n",
       "4      0  0.631008  0.540262  -1.698287      -0.817571       1.820609   \n",
       "\n",
       "   fur_soak_temp  fur_soak_time  rolling_temp  descaling_count  ...   hsb_미적용  \\\n",
       "0      -1.042290      -0.617512     -0.098376        -0.353037  ... -0.222779   \n",
       "1      -0.926564      -0.908186     -0.051371        -0.353037  ... -0.222779   \n",
       "2      -1.736646      -0.811295     -0.803452        -0.353037  ... -0.222779   \n",
       "3      -1.389468      -0.181501     -0.866125        -0.353037  ... -0.222779   \n",
       "4      -1.331605      -1.150415     -1.054145        -0.353037  ... -0.222779   \n",
       "\n",
       "     hsb_적용  rolling_method_CR(제어압연)  rolling_method_TMCP(온도제어)  \\\n",
       "0  0.222779                -2.300248                   2.300248   \n",
       "1  0.222779                -2.300248                   2.300248   \n",
       "2  0.222779                -2.300248                   2.300248   \n",
       "3  0.222779                -2.300248                   2.300248   \n",
       "4  0.222779                -2.300248                   2.300248   \n",
       "\n",
       "   furnace_1호기1열  furnace_1호기2열  furnace_2호기1열  furnace_2호기2열  furnace_3호기1열  \\\n",
       "0       2.300248      -0.460646      -0.455825      -0.426528      -0.463852   \n",
       "1      -0.434736       2.170862      -0.455825      -0.426528      -0.463852   \n",
       "2      -0.434736      -0.460646       2.193824      -0.426528      -0.463852   \n",
       "3      -0.434736      -0.460646      -0.455825       2.344511      -0.463852   \n",
       "4      -0.434736      -0.460646      -0.455825      -0.426528       2.155859   \n",
       "\n",
       "   furnace_3호기2열  \n",
       "0      -0.441261  \n",
       "1      -0.441261  \n",
       "2      -0.441261  \n",
       "3      -0.441261  \n",
       "4      -0.441261  \n",
       "\n",
       "[5 rows x 23 columns]"
      ]
     },
     "metadata": {},
     "output_type": "display_data"
    }
   ],
   "source": [
    "# 데이터 분리:설명변수 스케일 변환\n",
    "df_raw_x = df_raw_dummy.drop(\"scale\", axis = 1, inplace = False)\n",
    "df_raw_y = df_raw_dummy[\"scale\"] \n",
    "\n",
    "v_feature_names = df_raw_x.columns\n",
    "scaler = StandardScaler() \n",
    "df_x_scaled = scaler.fit_transform(df_raw_x)\n",
    "df_x_scaled = pd.DataFrame(df_x_scaled, columns = v_feature_names)\n",
    "df_raw_y = df_raw_y.to_frame()\n",
    "df_x_converted = df_raw_y.join(df_x_scaled)\n",
    "\n",
    "\n",
    "display(df_x_converted.head())"
   ]
  },
  {
   "cell_type": "code",
   "execution_count": 83,
   "id": "d26eec84",
   "metadata": {},
   "outputs": [
    {
     "name": "stdout",
     "output_type": "stream",
     "text": [
      "분할 전 설명변수 데이터 : (994, 22)\n",
      "분할 후 설명변수 데이터 :Train (695, 22)   Test (299, 22)\n"
     ]
    }
   ],
   "source": [
    "# 데이터 분할 train_test_split(X: 설명변수, Y: 목표변수, test_size = test 데이터 비율)\n",
    "df_train_x, df_test_x, df_train_y, df_test_y = train_test_split(\n",
    "    df_x_scaled, df_raw_y, test_size = 0.3, random_state = 1234) \n",
    "\n",
    "print(\"분할 전 설명변수 데이터 :\", df_x_scaled.shape)\n",
    "print(\"분할 후 설명변수 데이터 :Train\", df_train_x.shape, \"  Test\",df_test_x.shape)"
   ]
  },
  {
   "cell_type": "code",
   "execution_count": 112,
   "id": "732fb9ed",
   "metadata": {},
   "outputs": [
    {
     "name": "stdout",
     "output_type": "stream",
     "text": [
      "scale\n",
      "0        473\n",
      "1        222\n",
      "dtype: int64 \n",
      "\n",
      "scale = 1 비율   scale\n",
      "False    0.680576\n",
      "True     0.319424\n",
      "dtype: float64\n"
     ]
    }
   ],
   "source": [
    "# 목표변수 빈도 확인\n",
    "\n",
    "df_train_y\n",
    "print(df_train_y.value_counts([\"scale\"]),\"\\n\")\n",
    "print(\"scale = 1 비율  \", df_train_y.value_counts(df_train_y[\"scale\"]==1)/len(df_train_y))"
   ]
  },
  {
   "cell_type": "code",
   "execution_count": 113,
   "id": "8d0f06b0",
   "metadata": {},
   "outputs": [
    {
     "data": {
      "text/plain": [
       "scale\n",
       "0        473\n",
       "1        473\n",
       "dtype: int64"
      ]
     },
     "execution_count": 113,
     "metadata": {},
     "output_type": "execute_result"
    }
   ],
   "source": [
    "from imblearn.over_sampling import SMOTE\n",
    "# Over-sampling 설정\n",
    "sm = SMOTE(sampling_strategy='auto', random_state=1234)\n",
    "\n",
    "\n",
    "# train데이터를 이용한 Over-sampling\n",
    "x_resampled, y_resampled = sm.fit_resample(df_train_x,df_train_y)\n",
    "\n",
    "y_resampled.value_counts()"
   ]
  },
  {
   "cell_type": "code",
   "execution_count": null,
   "id": "a4b02134",
   "metadata": {},
   "outputs": [],
   "source": [
    "para_c = [10**c for c in range(-2, 3)]\n",
    "\n",
    "para_gamma = [10**gamma for gamma in range(-2, 3)]\n",
    "\n",
    "estimator = SVC(random_state=1234)\n",
    "\n",
    "param_grid = {\"C\":para_c, \"gamma\":para_gamma}\n",
    "\n",
    "grid_rf = GridSearchCV(estimator, param_grid, scoring=\"accuracy\", n_jobs = -1)\n",
    "grid_rf.fit(x_resampled, y_resampled)\n",
    "print(\"best estimator model: \\n{}\".format(grid_rf.best_estimator_))\n",
    "print(\"\\nbest parameter: \\n{}\".format(grid_rf.best_params_))\n",
    "print(\"\\nbest score: \\n{}\".format(grid_rf.best_score_.round(3)))"
   ]
  },
  {
   "cell_type": "markdown",
   "id": "079ff528",
   "metadata": {},
   "source": [
    "train 모델 기준 최적 파라미터로 C=100, gamma=0.1 추천, 정확도는 93.6%"
   ]
  },
  {
   "cell_type": "code",
   "execution_count": 117,
   "id": "0528e3d6",
   "metadata": {},
   "outputs": [
    {
     "name": "stdout",
     "output_type": "stream",
     "text": [
      "Train Accuracy: 1.000\n",
      "Test Accuracy: 0.873\n",
      "\n",
      "Test confusion matrix: \n",
      "[[192  19]\n",
      " [ 19  69]]\n",
      "              precision    recall  f1-score   support\n",
      "\n",
      "           0      0.910     0.910     0.910       211\n",
      "           1      0.784     0.784     0.784        88\n",
      "\n",
      "    accuracy                          0.873       299\n",
      "   macro avg      0.847     0.847     0.847       299\n",
      "weighted avg      0.873     0.873     0.873       299\n",
      "\n"
     ]
    }
   ],
   "source": [
    "svc_final = SVC(gamma=0.1, C=100, random_state=1234)\n",
    "svc_final.fit(df_train_x, df_train_y)\n",
    "y_pred = svc_final.predict(df_test_x)\n",
    "\n",
    "print(\"Train Accuracy: {:.3f}\".format(svc_final.score(df_train_x, df_train_y)))\n",
    "print(\"Test Accuracy: {:.3f}\\n\".format(svc_final.score(df_test_x, df_test_y)))\n",
    "print(\"Test confusion matrix: \\n{}\".format(confusion_matrix(df_test_y, y_pred)))\n",
    "print(classification_report(df_test_y, y_pred, digits=3))"
   ]
  },
  {
   "cell_type": "markdown",
   "id": "1127c02b",
   "metadata": {},
   "source": [
    "test 데이터 기준 정분류율은 87.3%, \"1\"기준 f1 score는 78.4% "
   ]
  },
  {
   "cell_type": "markdown",
   "id": "6c88ad2e",
   "metadata": {},
   "source": [
    "Train Accuracy가 1.000, Test Accuracy가 0.873로 나왔기 때문에 훈련 데이터에서 과도한 성능을 보이는 경향이 있음.\n",
    "그러나 best score가 0.936로 높은 것을 고려하면, 일부 과적합 경향이 있더라도 모델이 일반화된 성능을 어느 정도 유지하고 있다고 볼 수 있음.\n",
    "\n",
    "결론:\n",
    "\n",
    "과적합 가능성은 있지만 심각하지 않을 가능성: Train Accuracy가 100%로 매우 높기 때문에 다소의 과적합은 의심되지만, 교차 검증에서의 best score와 테스트 정확도가 큰 차이를 보이지 않음\n",
    "\n",
    "일반화 성능이 양호: 현재 설정된 C와 gamma 값으로도 테스트 데이터에서 비교적 안정적인 성능을 유지하고 있으므로, 모델의 일반화 성능은 어느 정도 확보되어 있다고 볼 수 있음."
   ]
  }
 ],
 "metadata": {
  "kernelspec": {
   "display_name": "Python 3 (ipykernel)",
   "language": "python",
   "name": "python3"
  },
  "language_info": {
   "codemirror_mode": {
    "name": "ipython",
    "version": 3
   },
   "file_extension": ".py",
   "mimetype": "text/x-python",
   "name": "python",
   "nbconvert_exporter": "python",
   "pygments_lexer": "ipython3",
   "version": "3.10.9"
  }
 },
 "nbformat": 4,
 "nbformat_minor": 5
}
