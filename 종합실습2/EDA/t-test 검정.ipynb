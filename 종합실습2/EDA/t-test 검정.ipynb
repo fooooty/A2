{
 "cells": [
  {
   "cell_type": "code",
   "execution_count": 14,
   "metadata": {},
   "outputs": [],
   "source": [
    "import pandas as pd\n",
    "import numpy as np\n",
    "\n",
    "import matplotlib\n",
    "import matplotlib.pyplot as plt\n",
    "import seaborn as sns\n",
    "\n",
    "import scipy.stats as stats\n",
    "from statsmodels.formula.api import ols\n",
    "from scipy.stats import ttest_ind\n",
    "from scipy.stats import ttest_1samp\n",
    "\n",
    "%matplotlib inline"
   ]
  },
  {
   "cell_type": "code",
   "execution_count": 15,
   "metadata": {},
   "outputs": [],
   "source": [
    "plt.rc(\"font\", family=\"NanumGothic Eco\")\n",
    "matplotlib.rc(\"axes\", unicode_minus = False)\n",
    "\n",
    "import warnings\n",
    "warnings.filterwarnings('ignore')"
   ]
  },
  {
   "cell_type": "code",
   "execution_count": 16,
   "metadata": {},
   "outputs": [
    {
     "data": {
      "text/html": [
       "<div>\n",
       "<style scoped>\n",
       "    .dataframe tbody tr th:only-of-type {\n",
       "        vertical-align: middle;\n",
       "    }\n",
       "\n",
       "    .dataframe tbody tr th {\n",
       "        vertical-align: top;\n",
       "    }\n",
       "\n",
       "    .dataframe thead th {\n",
       "        text-align: right;\n",
       "    }\n",
       "</style>\n",
       "<table border=\"1\" class=\"dataframe\">\n",
       "  <thead>\n",
       "    <tr style=\"text-align: right;\">\n",
       "      <th></th>\n",
       "      <th>Unnamed: 0</th>\n",
       "      <th>scale</th>\n",
       "      <th>steel_kind</th>\n",
       "      <th>pt_thick</th>\n",
       "      <th>pt_width</th>\n",
       "      <th>pt_length</th>\n",
       "      <th>hsb</th>\n",
       "      <th>fur_no</th>\n",
       "      <th>fur_input_row</th>\n",
       "      <th>fur_heat_temp</th>\n",
       "      <th>fur_heat_time</th>\n",
       "      <th>fur_soak_temp</th>\n",
       "      <th>fur_soak_time</th>\n",
       "      <th>rolling_method</th>\n",
       "      <th>rolling_temp</th>\n",
       "      <th>descaling_count</th>\n",
       "      <th>fur_preheat_time</th>\n",
       "    </tr>\n",
       "  </thead>\n",
       "  <tbody>\n",
       "    <tr>\n",
       "      <th>0</th>\n",
       "      <td>0</td>\n",
       "      <td>0</td>\n",
       "      <td>T</td>\n",
       "      <td>32</td>\n",
       "      <td>3700</td>\n",
       "      <td>15100</td>\n",
       "      <td>적용</td>\n",
       "      <td>1</td>\n",
       "      <td>1</td>\n",
       "      <td>1144</td>\n",
       "      <td>116</td>\n",
       "      <td>1133</td>\n",
       "      <td>59</td>\n",
       "      <td>TMCP(온도제어)</td>\n",
       "      <td>934</td>\n",
       "      <td>8</td>\n",
       "      <td>84</td>\n",
       "    </tr>\n",
       "    <tr>\n",
       "      <th>1</th>\n",
       "      <td>1</td>\n",
       "      <td>0</td>\n",
       "      <td>T</td>\n",
       "      <td>32</td>\n",
       "      <td>3700</td>\n",
       "      <td>15100</td>\n",
       "      <td>적용</td>\n",
       "      <td>1</td>\n",
       "      <td>2</td>\n",
       "      <td>1144</td>\n",
       "      <td>122</td>\n",
       "      <td>1135</td>\n",
       "      <td>53</td>\n",
       "      <td>TMCP(온도제어)</td>\n",
       "      <td>937</td>\n",
       "      <td>8</td>\n",
       "      <td>63</td>\n",
       "    </tr>\n",
       "    <tr>\n",
       "      <th>2</th>\n",
       "      <td>2</td>\n",
       "      <td>0</td>\n",
       "      <td>T</td>\n",
       "      <td>33</td>\n",
       "      <td>3600</td>\n",
       "      <td>19200</td>\n",
       "      <td>적용</td>\n",
       "      <td>2</td>\n",
       "      <td>1</td>\n",
       "      <td>1129</td>\n",
       "      <td>116</td>\n",
       "      <td>1121</td>\n",
       "      <td>55</td>\n",
       "      <td>TMCP(온도제어)</td>\n",
       "      <td>889</td>\n",
       "      <td>8</td>\n",
       "      <td>87</td>\n",
       "    </tr>\n",
       "    <tr>\n",
       "      <th>3</th>\n",
       "      <td>3</td>\n",
       "      <td>0</td>\n",
       "      <td>T</td>\n",
       "      <td>33</td>\n",
       "      <td>3600</td>\n",
       "      <td>19200</td>\n",
       "      <td>적용</td>\n",
       "      <td>2</td>\n",
       "      <td>2</td>\n",
       "      <td>1152</td>\n",
       "      <td>125</td>\n",
       "      <td>1127</td>\n",
       "      <td>68</td>\n",
       "      <td>TMCP(온도제어)</td>\n",
       "      <td>885</td>\n",
       "      <td>8</td>\n",
       "      <td>73</td>\n",
       "    </tr>\n",
       "    <tr>\n",
       "      <th>4</th>\n",
       "      <td>4</td>\n",
       "      <td>0</td>\n",
       "      <td>T</td>\n",
       "      <td>38</td>\n",
       "      <td>3100</td>\n",
       "      <td>13300</td>\n",
       "      <td>적용</td>\n",
       "      <td>3</td>\n",
       "      <td>1</td>\n",
       "      <td>1140</td>\n",
       "      <td>134</td>\n",
       "      <td>1128</td>\n",
       "      <td>48</td>\n",
       "      <td>TMCP(온도제어)</td>\n",
       "      <td>873</td>\n",
       "      <td>8</td>\n",
       "      <td>64</td>\n",
       "    </tr>\n",
       "  </tbody>\n",
       "</table>\n",
       "</div>"
      ],
      "text/plain": [
       "   Unnamed: 0  scale steel_kind  pt_thick  pt_width  pt_length hsb  fur_no  \\\n",
       "0           0      0          T        32      3700      15100  적용       1   \n",
       "1           1      0          T        32      3700      15100  적용       1   \n",
       "2           2      0          T        33      3600      19200  적용       2   \n",
       "3           3      0          T        33      3600      19200  적용       2   \n",
       "4           4      0          T        38      3100      13300  적용       3   \n",
       "\n",
       "   fur_input_row  fur_heat_temp  fur_heat_time  fur_soak_temp  fur_soak_time  \\\n",
       "0              1           1144            116           1133             59   \n",
       "1              2           1144            122           1135             53   \n",
       "2              1           1129            116           1121             55   \n",
       "3              2           1152            125           1127             68   \n",
       "4              1           1140            134           1128             48   \n",
       "\n",
       "  rolling_method  rolling_temp  descaling_count  fur_preheat_time  \n",
       "0     TMCP(온도제어)           934                8                84  \n",
       "1     TMCP(온도제어)           937                8                63  \n",
       "2     TMCP(온도제어)           889                8                87  \n",
       "3     TMCP(온도제어)           885                8                73  \n",
       "4     TMCP(온도제어)           873                8                64  "
      ]
     },
     "execution_count": 16,
     "metadata": {},
     "output_type": "execute_result"
    }
   ],
   "source": [
    "Scale_raw = pd.read_csv(\"C:\\포스코 아카데미\\preprocessed_scale.csv\")\n",
    "Scale_raw.head()"
   ]
  },
  {
   "cell_type": "markdown",
   "metadata": {},
   "source": [
    "# Welch's t-test"
   ]
  },
  {
   "cell_type": "code",
   "execution_count": null,
   "metadata": {},
   "outputs": [
    {
     "name": "stdout",
     "output_type": "stream",
     "text": [
      "  scale  t-statistic   p-value\n",
      "0     0    -0.622961  0.533414\n",
      "1     1     1.415637  0.157312\n"
     ]
    }
   ],
   "source": [
    "\n",
    "# 전체 pt_length 데이터 추출 (전체 평균과 개별 그룹을 비교하기 위한 전체 그룹)\n",
    "all_data = Scale_raw['pt_length']\n",
    "\n",
    "# scale의 고유 값 목록\n",
    "scales = Scale_raw['scale'].unique()\n",
    "\n",
    "# t-검정 결과 저장용 데이터프레임\n",
    "t_test_results = pd.DataFrame(columns=['scale', 't-statistic', 'p-value'])\n",
    "\n",
    "# 각 scale에 대해 Welch's t-test 수행\n",
    "for scale in scales:\n",
    "    # 해당 scale의 pt_length 데이터 추출\n",
    "    price_brand = Scale_raw[Scale_raw['scale'] == scale]['pt_length']\n",
    "    \n",
    "    # Welch's t-test 수행: 해당 scale의 pt_length 데이터와 전체 데이터 비교\n",
    "    t, p = ttest_ind(price_brand, all_data, equal_var=False)\n",
    "    \n",
    "    # 새로운 행을 데이터프레임으로 생성\n",
    "    new_row = pd.DataFrame({\n",
    "        'scale': [scale],\n",
    "        't-statistic': [t],\n",
    "        'p-value': [p]\n",
    "    })\n",
    "    \n",
    "    # 결과 저장 (pd.concat을 사용하여 추가)\n",
    "    t_test_results = pd.concat([t_test_results, new_row], ignore_index=True)\n",
    "\n",
    "# 결과 출력\n",
    "print(t_test_results)"
   ]
  },
  {
   "cell_type": "markdown",
   "metadata": {},
   "source": [
    "pt_length는 scale에 유의미하지않다."
   ]
  },
  {
   "cell_type": "code",
   "execution_count": 25,
   "metadata": {},
   "outputs": [
    {
     "name": "stdout",
     "output_type": "stream",
     "text": [
      "  scale  t-statistic   p-value\n",
      "0     0     2.674101  0.007574\n",
      "1     1    -4.393515  0.000014\n"
     ]
    }
   ],
   "source": [
    "\n",
    "# 전체 pt_length 데이터 추출 (전체 평균과 개별 그룹을 비교하기 위한 전체 그룹)\n",
    "all_data = Scale_raw['pt_width']\n",
    "\n",
    "# scale의 고유 값 목록\n",
    "scales = Scale_raw['scale'].unique()\n",
    "\n",
    "# t-검정 결과 저장용 데이터프레임\n",
    "t_test_results = pd.DataFrame(columns=['scale', 't-statistic', 'p-value'])\n",
    "\n",
    "# 각 scale에 대해 Welch's t-test 수행\n",
    "for scale in scales:\n",
    "    # 해당 scale의 pt_length 데이터 추출\n",
    "    price_brand = Scale_raw[Scale_raw['scale'] == scale]['pt_width']\n",
    "    \n",
    "    # Welch's t-test 수행: 해당 scale의 pt_length 데이터와 전체 데이터 비교\n",
    "    t, p = ttest_ind(price_brand, all_data, equal_var=False)\n",
    "    \n",
    "    # 새로운 행을 데이터프레임으로 생성\n",
    "    new_row = pd.DataFrame({\n",
    "        'scale': [scale],\n",
    "        't-statistic': [t],\n",
    "        'p-value': [p]\n",
    "    })\n",
    "    \n",
    "    # 결과 저장 (pd.concat을 사용하여 추가)\n",
    "    t_test_results = pd.concat([t_test_results, new_row], ignore_index=True)\n",
    "\n",
    "# 결과 출력\n",
    "print(t_test_results)"
   ]
  },
  {
   "cell_type": "markdown",
   "metadata": {},
   "source": [
    "pt_width는 scale에 유의미하다."
   ]
  },
  {
   "cell_type": "code",
   "execution_count": 26,
   "metadata": {},
   "outputs": [
    {
     "name": "stdout",
     "output_type": "stream",
     "text": [
      "  scale  t-statistic   p-value\n",
      "0     0     1.213193  0.225263\n",
      "1     1    -2.647198  0.008303\n"
     ]
    }
   ],
   "source": [
    "\n",
    "# 전체 pt_length 데이터 추출 (전체 평균과 개별 그룹을 비교하기 위한 전체 그룹)\n",
    "all_data = Scale_raw['pt_thick']\n",
    "\n",
    "# scale의 고유 값 목록\n",
    "scales = Scale_raw['scale'].unique()\n",
    "\n",
    "# t-검정 결과 저장용 데이터프레임\n",
    "t_test_results = pd.DataFrame(columns=['scale', 't-statistic', 'p-value'])\n",
    "\n",
    "# 각 scale에 대해 Welch's t-test 수행\n",
    "for scale in scales:\n",
    "    # 해당 scale의 pt_length 데이터 추출\n",
    "    price_brand = Scale_raw[Scale_raw['scale'] == scale]['pt_thick']\n",
    "    \n",
    "    # Welch's t-test 수행: 해당 scale의 pt_length 데이터와 전체 데이터 비교\n",
    "    t, p = ttest_ind(price_brand, all_data, equal_var=False)\n",
    "    \n",
    "    # 새로운 행을 데이터프레임으로 생성\n",
    "    new_row = pd.DataFrame({\n",
    "        'scale': [scale],\n",
    "        't-statistic': [t],\n",
    "        'p-value': [p]\n",
    "    })\n",
    "    \n",
    "    # 결과 저장 (pd.concat을 사용하여 추가)\n",
    "    t_test_results = pd.concat([t_test_results, new_row], ignore_index=True)\n",
    "\n",
    "# 결과 출력\n",
    "print(t_test_results)"
   ]
  },
  {
   "cell_type": "markdown",
   "metadata": {},
   "source": [
    "pt_thick는 scale이 0일때 유의미하지않다.\n",
    "\\\n",
    "pt_thick는 scale이 1일때 유의미하다."
   ]
  },
  {
   "cell_type": "code",
   "execution_count": 27,
   "metadata": {},
   "outputs": [
    {
     "name": "stdout",
     "output_type": "stream",
     "text": [
      "  scale  t-statistic       p-value\n",
      "0     0    -4.392721  1.200419e-05\n",
      "1     1     8.956118  3.408921e-18\n"
     ]
    }
   ],
   "source": [
    "\n",
    "# 전체 pt_length 데이터 추출 (전체 평균과 개별 그룹을 비교하기 위한 전체 그룹)\n",
    "all_data = Scale_raw['fur_soak_temp']\n",
    "\n",
    "# scale의 고유 값 목록\n",
    "scales = Scale_raw['scale'].unique()\n",
    "\n",
    "# t-검정 결과 저장용 데이터프레임\n",
    "t_test_results = pd.DataFrame(columns=['scale', 't-statistic', 'p-value'])\n",
    "\n",
    "# 각 scale에 대해 Welch's t-test 수행\n",
    "for scale in scales:\n",
    "    # 해당 scale의 pt_length 데이터 추출\n",
    "    price_brand = Scale_raw[Scale_raw['scale'] == scale]['fur_soak_temp']\n",
    "    \n",
    "    # Welch's t-test 수행: 해당 scale의 pt_length 데이터와 전체 데이터 비교\n",
    "    t, p = ttest_ind(price_brand, all_data, equal_var=False)\n",
    "    \n",
    "    # 새로운 행을 데이터프레임으로 생성\n",
    "    new_row = pd.DataFrame({\n",
    "        'scale': [scale],\n",
    "        't-statistic': [t],\n",
    "        'p-value': [p]\n",
    "    })\n",
    "    \n",
    "    # 결과 저장 (pd.concat을 사용하여 추가)\n",
    "    t_test_results = pd.concat([t_test_results, new_row], ignore_index=True)\n",
    "\n",
    "# 결과 출력\n",
    "print(t_test_results)"
   ]
  },
  {
   "cell_type": "markdown",
   "metadata": {},
   "source": [
    "fur_soak_temp는 scale에 유의미하다.\n"
   ]
  },
  {
   "cell_type": "code",
   "execution_count": null,
   "metadata": {},
   "outputs": [
    {
     "name": "stdout",
     "output_type": "stream",
     "text": [
      "  scale  t-statistic   p-value\n",
      "0     0     0.566785  0.570950\n",
      "1     1    -1.121434  0.262549\n"
     ]
    }
   ],
   "source": [
    "\n",
    "# 전체 pt_length 데이터 추출 (전체 평균과 개별 그룹을 비교하기 위한 전체 그룹)\n",
    "all_data = Scale_raw['descaling_count']\n",
    "\n",
    "# scale의 고유 값 목록\n",
    "scales = Scale_raw['scale'].unique()\n",
    "\n",
    "# t-검정 결과 저장용 데이터프레임\n",
    "t_test_results = pd.DataFrame(columns=['scale', 't-statistic', 'p-value'])\n",
    "\n",
    "# 각 scale에 대해 Welch's t-test 수행\n",
    "for scale in scales:\n",
    "    # 해당 scale의 pt_length 데이터 추출\n",
    "    price_brand = Scale_raw[Scale_raw['scale'] == scale]['descaling_count']\n",
    "    \n",
    "    # Welch's t-test 수행: 해당 scale의 pt_length 데이터와 전체 데이터 비교\n",
    "    t, p = ttest_ind(price_brand, all_data, equal_var=False)\n",
    "    \n",
    "    # 새로운 행을 데이터프레임으로 생성\n",
    "    new_row = pd.DataFrame({\n",
    "        'scale': [scale],\n",
    "        't-statistic': [t],\n",
    "        'p-value': [p]\n",
    "    })\n",
    "    \n",
    "    # 결과 저장 (pd.concat을 사용하여 추가)\n",
    "    t_test_results = pd.concat([t_test_results, new_row], ignore_index=True)\n",
    "\n",
    "# 결과 출력\n",
    "print(t_test_results)"
   ]
  },
  {
   "cell_type": "markdown",
   "metadata": {},
   "source": [
    "descaling_count은 sclae에 유의미하지않다."
   ]
  },
  {
   "cell_type": "markdown",
   "metadata": {},
   "source": [
    "# T-Test"
   ]
  },
  {
   "cell_type": "code",
   "execution_count": 30,
   "metadata": {},
   "outputs": [
    {
     "name": "stdout",
     "output_type": "stream",
     "text": [
      "  scale  t-statistic       p-value\n",
      "0     0    -3.873451  1.176264e-04\n",
      "1     1     6.301136  1.016448e-09\n"
     ]
    }
   ],
   "source": [
    "# 전체 fur_heat_temp의 평균 계산\n",
    "overall_mean = Scale_raw['fur_heat_temp'].mean()\n",
    "\n",
    "# scale의 고유 값 목록\n",
    "scales = Scale_raw['scale'].unique()\n",
    "\n",
    "# t-검정 결과 저장용 데이터프레임\n",
    "t_test_results = pd.DataFrame(columns=['scale', 't-statistic', 'p-value'])\n",
    "\n",
    "# 각 scale에 대해 t-검정 수행\n",
    "for scale in scales:\n",
    "    # 해당 scale의 fur_heat_temp 데이터 추출\n",
    "    price_brand = Scale_raw[Scale_raw['scale'] == scale]['fur_heat_temp']\n",
    "    \n",
    "    # t-검정 수행: 해당 scale의 fur_heat_temp 데이터와 전체 평균 비교\n",
    "    t, p = ttest_1samp(price_brand, overall_mean)\n",
    "    \n",
    "    # 새로운 행을 데이터프레임으로 생성\n",
    "    new_row = pd.DataFrame({\n",
    "        'scale': [scale],\n",
    "        't-statistic': [t],\n",
    "        'p-value': [p]\n",
    "    })\n",
    "    \n",
    "    # 결과 저장 (pd.concat을 사용하여 추가)\n",
    "    t_test_results = pd.concat([t_test_results, new_row], ignore_index=True)\n",
    "\n",
    "# 결과 출력\n",
    "print(t_test_results)"
   ]
  },
  {
   "cell_type": "markdown",
   "metadata": {},
   "source": [
    "fur_heat_temp는 scale에 유의미하다."
   ]
  },
  {
   "cell_type": "code",
   "execution_count": 31,
   "metadata": {},
   "outputs": [
    {
     "name": "stdout",
     "output_type": "stream",
     "text": [
      "  scale  t-statistic   p-value\n",
      "0     0     0.611589  0.541013\n",
      "1     1    -1.048171  0.295379\n"
     ]
    }
   ],
   "source": [
    "# 전체 fur_heat_temp의 평균 계산\n",
    "overall_mean = Scale_raw['fur_heat_time'].mean()\n",
    "\n",
    "# scale의 고유 값 목록\n",
    "scales = Scale_raw['scale'].unique()\n",
    "\n",
    "# t-검정 결과 저장용 데이터프레임\n",
    "t_test_results = pd.DataFrame(columns=['scale', 't-statistic', 'p-value'])\n",
    "\n",
    "# 각 scale에 대해 t-검정 수행\n",
    "for scale in scales:\n",
    "    # 해당 scale의 fur_heat_temp 데이터 추출\n",
    "    price_brand = Scale_raw[Scale_raw['scale'] == scale]['fur_heat_time']\n",
    "    \n",
    "    # t-검정 수행: 해당 scale의 fur_heat_temp 데이터와 전체 평균 비교\n",
    "    t, p = ttest_1samp(price_brand, overall_mean)\n",
    "    \n",
    "    # 새로운 행을 데이터프레임으로 생성\n",
    "    new_row = pd.DataFrame({\n",
    "        'scale': [scale],\n",
    "        't-statistic': [t],\n",
    "        'p-value': [p]\n",
    "    })\n",
    "    \n",
    "    # 결과 저장 (pd.concat을 사용하여 추가)\n",
    "    t_test_results = pd.concat([t_test_results, new_row], ignore_index=True)\n",
    "\n",
    "# 결과 출력\n",
    "print(t_test_results)"
   ]
  },
  {
   "cell_type": "markdown",
   "metadata": {},
   "source": [
    "fur_heat_time은 scale에 유의미하지 않다."
   ]
  },
  {
   "cell_type": "code",
   "execution_count": 32,
   "metadata": {},
   "outputs": [
    {
     "name": "stdout",
     "output_type": "stream",
     "text": [
      "  scale  t-statistic       p-value\n",
      "0     0     3.670378  2.610835e-04\n",
      "1     1    -7.594583  3.695672e-13\n"
     ]
    }
   ],
   "source": [
    "# 전체 fur_heat_temp의 평균 계산\n",
    "overall_mean = Scale_raw['fur_soak_time'].mean()\n",
    "\n",
    "# scale의 고유 값 목록\n",
    "scales = Scale_raw['scale'].unique()\n",
    "\n",
    "# t-검정 결과 저장용 데이터프레임\n",
    "t_test_results = pd.DataFrame(columns=['scale', 't-statistic', 'p-value'])\n",
    "\n",
    "# 각 scale에 대해 t-검정 수행\n",
    "for scale in scales:\n",
    "    # 해당 scale의 fur_heat_temp 데이터 추출\n",
    "    price_brand = Scale_raw[Scale_raw['scale'] == scale]['fur_soak_time']\n",
    "    \n",
    "    # t-검정 수행: 해당 scale의 fur_heat_temp 데이터와 전체 평균 비교\n",
    "    t, p = ttest_1samp(price_brand, overall_mean)\n",
    "    \n",
    "    # 새로운 행을 데이터프레임으로 생성\n",
    "    new_row = pd.DataFrame({\n",
    "        'scale': [scale],\n",
    "        't-statistic': [t],\n",
    "        'p-value': [p]\n",
    "    })\n",
    "    \n",
    "    # 결과 저장 (pd.concat을 사용하여 추가)\n",
    "    t_test_results = pd.concat([t_test_results, new_row], ignore_index=True)\n",
    "\n",
    "# 결과 출력\n",
    "print(t_test_results)"
   ]
  },
  {
   "cell_type": "markdown",
   "metadata": {},
   "source": [
    "fur_soak_time은 scale에 유의미하다."
   ]
  },
  {
   "cell_type": "code",
   "execution_count": 33,
   "metadata": {},
   "outputs": [
    {
     "name": "stdout",
     "output_type": "stream",
     "text": [
      "  scale  t-statistic       p-value\n",
      "0     0   -10.220911  6.463393e-23\n",
      "1     1    16.451250  4.079539e-44\n"
     ]
    }
   ],
   "source": [
    "# 전체 fur_heat_temp의 평균 계산\n",
    "overall_mean = Scale_raw['rolling_temp'].mean()\n",
    "\n",
    "# scale의 고유 값 목록\n",
    "scales = Scale_raw['scale'].unique()\n",
    "\n",
    "# t-검정 결과 저장용 데이터프레임\n",
    "t_test_results = pd.DataFrame(columns=['scale', 't-statistic', 'p-value'])\n",
    "\n",
    "# 각 scale에 대해 t-검정 수행\n",
    "for scale in scales:\n",
    "    # 해당 scale의 fur_heat_temp 데이터 추출\n",
    "    price_brand = Scale_raw[Scale_raw['scale'] == scale]['rolling_temp']\n",
    "    \n",
    "    # t-검정 수행: 해당 scale의 fur_heat_temp 데이터와 전체 평균 비교\n",
    "    t, p = ttest_1samp(price_brand, overall_mean)\n",
    "    \n",
    "    # 새로운 행을 데이터프레임으로 생성\n",
    "    new_row = pd.DataFrame({\n",
    "        'scale': [scale],\n",
    "        't-statistic': [t],\n",
    "        'p-value': [p]\n",
    "    })\n",
    "    \n",
    "    # 결과 저장 (pd.concat을 사용하여 추가)\n",
    "    t_test_results = pd.concat([t_test_results, new_row], ignore_index=True)\n",
    "\n",
    "# 결과 출력\n",
    "print(t_test_results)"
   ]
  },
  {
   "cell_type": "markdown",
   "metadata": {},
   "source": [
    "rolling_temp는 scale에 유의미하다."
   ]
  },
  {
   "cell_type": "code",
   "execution_count": 34,
   "metadata": {},
   "outputs": [
    {
     "name": "stdout",
     "output_type": "stream",
     "text": [
      "  scale  t-statistic   p-value\n",
      "0     0    -0.668198  0.504233\n",
      "1     1     0.992287  0.321834\n"
     ]
    }
   ],
   "source": [
    "# 전체 fur_heat_temp의 평균 계산\n",
    "overall_mean = Scale_raw['fur_preheat_time'].mean()\n",
    "\n",
    "# scale의 고유 값 목록\n",
    "scales = Scale_raw['scale'].unique()\n",
    "\n",
    "# t-검정 결과 저장용 데이터프레임\n",
    "t_test_results = pd.DataFrame(columns=['scale', 't-statistic', 'p-value'])\n",
    "\n",
    "# 각 scale에 대해 t-검정 수행\n",
    "for scale in scales:\n",
    "    # 해당 scale의 fur_heat_temp 데이터 추출\n",
    "    price_brand = Scale_raw[Scale_raw['scale'] == scale]['fur_preheat_time']\n",
    "    \n",
    "    # t-검정 수행: 해당 scale의 fur_heat_temp 데이터와 전체 평균 비교\n",
    "    t, p = ttest_1samp(price_brand, overall_mean)\n",
    "    \n",
    "    # 새로운 행을 데이터프레임으로 생성\n",
    "    new_row = pd.DataFrame({\n",
    "        'scale': [scale],\n",
    "        't-statistic': [t],\n",
    "        'p-value': [p]\n",
    "    })\n",
    "    \n",
    "    # 결과 저장 (pd.concat을 사용하여 추가)\n",
    "    t_test_results = pd.concat([t_test_results, new_row], ignore_index=True)\n",
    "\n",
    "# 결과 출력\n",
    "print(t_test_results)"
   ]
  },
  {
   "cell_type": "markdown",
   "metadata": {},
   "source": [
    "fur_preheat_time는 scale에 유의미하지않다."
   ]
  },
  {
   "cell_type": "markdown",
   "metadata": {},
   "source": []
  }
 ],
 "metadata": {
  "kernelspec": {
   "display_name": "base",
   "language": "python",
   "name": "python3"
  },
  "language_info": {
   "codemirror_mode": {
    "name": "ipython",
    "version": 3
   },
   "file_extension": ".py",
   "mimetype": "text/x-python",
   "name": "python",
   "nbconvert_exporter": "python",
   "pygments_lexer": "ipython3",
   "version": "3.12.4"
  }
 },
 "nbformat": 4,
 "nbformat_minor": 2
}
