{
 "cells": [
  {
   "cell_type": "markdown",
   "metadata": {},
   "source": [
    "## n_iter 500 - RandomizedSearchCV 이용한 DT, RF, GB Model "
   ]
  },
  {
   "cell_type": "code",
   "execution_count": 10,
   "metadata": {},
   "outputs": [],
   "source": [
    "# 실행결과 경고메시지 출력 제외\n",
    "import warnings\n",
    "\n",
    "warnings.filterwarnings('ignore')\n",
    "\n",
    "# 데이터 구성:Series, DataFrame\n",
    "import pandas as pd\n",
    "\n",
    "# 배열 구성\n",
    "import numpy as np\n",
    "\n",
    "# 데이터 시각화\n",
    "import matplotlib.pyplot as plt\n",
    "import matplotlib\n",
    "\n",
    "# export_graphviz: 나무 구조 생성 및 저장 \n",
    "from sklearn.tree import export_graphviz\n",
    "\n",
    "# graphviz : 나무 구조 시각화  (.dot 확장자 파일 불러오기 등)\n",
    "import graphviz\n",
    "\n",
    "# 데이터 분할:train, test\n",
    "from sklearn.model_selection import train_test_split\n",
    "\n",
    "# 예측/회귀 Decision Tree\n",
    "from sklearn.tree import DecisionTreeClassifier\n",
    "\n",
    "# 예측/회귀 Random Forest\n",
    "from sklearn.ensemble import RandomForestClassifier\n",
    "\n",
    "# 예측/회귀 xgboost  \n",
    "from xgboost import XGBClassifier\n",
    "\n",
    "# 모델 성능 평가: Precision, Recall, F1 Score, ROC Curve, AUC\n",
    "from sklearn.metrics import accuracy_score, precision_score, recall_score, confusion_matrix, classification_report\n",
    "from sklearn.metrics import f1_score, roc_curve, auc, roc_auc_score\n",
    "\n",
    "# Check the Frequency of Variable\n",
    "from collections import Counter\n",
    "\n",
    "# Scale 변환:평균,표준편차 기준\n",
    "from sklearn.preprocessing import StandardScaler\n",
    "\n",
    "# 변수 중요도 확인: F1 점수 기준\n",
    "from xgboost import plot_importance\n",
    "\n",
    "# 샘플링 : Over-sampling 등\n",
    "from imblearn.over_sampling import SMOTE\n",
    "\n",
    "# 분류모델 통합 평가: 혼동행렬, 정확도, 정밀도, 재현율, F1, AUC 등\n",
    "def eval_class_model(y_test, y_pred):\n",
    "    confusion = confusion_matrix(y_test, y_pred)\n",
    "    accuracy = accuracy_score(y_test, y_pred)\n",
    "    precision = precision_score(y_test, y_pred)\n",
    "    recall = recall_score(y_test, y_pred)\n",
    "    F1 = f1_score(y_test, y_pred)\n",
    "    AUC = roc_auc_score(y_test, y_pred)\n",
    "    \n",
    "    print('오차행렬:\\n', confusion, '\\n')\n",
    "    print('정확도: {:.4f}'.format(accuracy))\n",
    "    print('정밀도: {:.4f}'.format(precision))\n",
    "    print('재현율: {:.4f}'.format(recall))\n",
    "    print('F1    : {:.4f}'.format(F1))\n",
    "    print('AUC   : {:.4f}'.format(AUC))\n",
    "\n",
    "# 최적 모델, 파라미터 탐색\n",
    "from sklearn.model_selection import RandomizedSearchCV\n",
    "\n",
    "# 맑은 고딕 적용\n",
    "matplotlib.rc(\"font\", family = \"Malgun Gothic\")\n",
    "# 음수 표시\n",
    "matplotlib.rc('axes', unicode_minus=False)"
   ]
  },
  {
   "cell_type": "markdown",
   "metadata": {},
   "source": [
    "#### 데이터 불러오기"
   ]
  },
  {
   "cell_type": "code",
   "execution_count": 2,
   "metadata": {},
   "outputs": [
    {
     "name": "stdout",
     "output_type": "stream",
     "text": [
      "Data 구조: (994, 15)\n",
      "\n",
      "변수 :  Index(['scale', 'steel_kind', 'pt_thick', 'pt_width', 'pt_length', 'hsb',\n",
      "       'fur_heat_temp', 'fur_heat_time', 'fur_soak_temp', 'fur_soak_time',\n",
      "       'rolling_method', 'rolling_temp', 'descaling_count', 'fur_preheat_time',\n",
      "       'furnace'],\n",
      "      dtype='object')\n"
     ]
    },
    {
     "data": {
      "text/plain": [
       "scale               0\n",
       "steel_kind          0\n",
       "pt_thick            0\n",
       "pt_width            0\n",
       "pt_length           0\n",
       "hsb                 0\n",
       "fur_heat_temp       0\n",
       "fur_heat_time       0\n",
       "fur_soak_temp       0\n",
       "fur_soak_time       0\n",
       "rolling_method      0\n",
       "rolling_temp        0\n",
       "descaling_count     0\n",
       "fur_preheat_time    0\n",
       "furnace             0\n",
       "dtype: int64"
      ]
     },
     "execution_count": 2,
     "metadata": {},
     "output_type": "execute_result"
    }
   ],
   "source": [
    "# 데이터 불러오기\n",
    "df_raw = pd.read_csv(\"preprocessed_scale.csv\")\n",
    "df_raw.head()\n",
    "\n",
    "# Data 구조 확인\n",
    "print(\"Data 구조:\", df_raw.shape)\n",
    "print()\n",
    "print(\"변수 : \", df_raw.columns)\n",
    "\n",
    "# 결측치 확인 (각 열별 결측치 개수를 확인)\n",
    "df_raw.isnull().sum(axis=0)"
   ]
  },
  {
   "cell_type": "markdown",
   "metadata": {},
   "source": [
    "#### 범주형 설명변수 더미변환"
   ]
  },
  {
   "cell_type": "code",
   "execution_count": 3,
   "metadata": {},
   "outputs": [
    {
     "data": {
      "text/html": [
       "<div>\n",
       "<style scoped>\n",
       "    .dataframe tbody tr th:only-of-type {\n",
       "        vertical-align: middle;\n",
       "    }\n",
       "\n",
       "    .dataframe tbody tr th {\n",
       "        vertical-align: top;\n",
       "    }\n",
       "\n",
       "    .dataframe thead th {\n",
       "        text-align: right;\n",
       "    }\n",
       "</style>\n",
       "<table border=\"1\" class=\"dataframe\">\n",
       "  <thead>\n",
       "    <tr style=\"text-align: right;\">\n",
       "      <th></th>\n",
       "      <th>scale</th>\n",
       "      <th>pt_thick</th>\n",
       "      <th>pt_width</th>\n",
       "      <th>pt_length</th>\n",
       "      <th>fur_heat_temp</th>\n",
       "      <th>fur_heat_time</th>\n",
       "      <th>fur_soak_temp</th>\n",
       "      <th>fur_soak_time</th>\n",
       "      <th>rolling_temp</th>\n",
       "      <th>descaling_count</th>\n",
       "      <th>...</th>\n",
       "      <th>hsb_미적용</th>\n",
       "      <th>hsb_적용</th>\n",
       "      <th>rolling_method_CR(제어압연)</th>\n",
       "      <th>rolling_method_TMCP(온도제어)</th>\n",
       "      <th>furnace_1호기1열</th>\n",
       "      <th>furnace_1호기2열</th>\n",
       "      <th>furnace_2호기1열</th>\n",
       "      <th>furnace_2호기2열</th>\n",
       "      <th>furnace_3호기1열</th>\n",
       "      <th>furnace_3호기2열</th>\n",
       "    </tr>\n",
       "  </thead>\n",
       "  <tbody>\n",
       "    <tr>\n",
       "      <th>0</th>\n",
       "      <td>0</td>\n",
       "      <td>32</td>\n",
       "      <td>3700</td>\n",
       "      <td>15100</td>\n",
       "      <td>1144</td>\n",
       "      <td>116</td>\n",
       "      <td>1133</td>\n",
       "      <td>59</td>\n",
       "      <td>934</td>\n",
       "      <td>8</td>\n",
       "      <td>...</td>\n",
       "      <td>False</td>\n",
       "      <td>True</td>\n",
       "      <td>False</td>\n",
       "      <td>True</td>\n",
       "      <td>True</td>\n",
       "      <td>False</td>\n",
       "      <td>False</td>\n",
       "      <td>False</td>\n",
       "      <td>False</td>\n",
       "      <td>False</td>\n",
       "    </tr>\n",
       "    <tr>\n",
       "      <th>1</th>\n",
       "      <td>0</td>\n",
       "      <td>32</td>\n",
       "      <td>3700</td>\n",
       "      <td>15100</td>\n",
       "      <td>1144</td>\n",
       "      <td>122</td>\n",
       "      <td>1135</td>\n",
       "      <td>53</td>\n",
       "      <td>937</td>\n",
       "      <td>8</td>\n",
       "      <td>...</td>\n",
       "      <td>False</td>\n",
       "      <td>True</td>\n",
       "      <td>False</td>\n",
       "      <td>True</td>\n",
       "      <td>False</td>\n",
       "      <td>True</td>\n",
       "      <td>False</td>\n",
       "      <td>False</td>\n",
       "      <td>False</td>\n",
       "      <td>False</td>\n",
       "    </tr>\n",
       "    <tr>\n",
       "      <th>2</th>\n",
       "      <td>0</td>\n",
       "      <td>33</td>\n",
       "      <td>3600</td>\n",
       "      <td>19200</td>\n",
       "      <td>1129</td>\n",
       "      <td>116</td>\n",
       "      <td>1121</td>\n",
       "      <td>55</td>\n",
       "      <td>889</td>\n",
       "      <td>8</td>\n",
       "      <td>...</td>\n",
       "      <td>False</td>\n",
       "      <td>True</td>\n",
       "      <td>False</td>\n",
       "      <td>True</td>\n",
       "      <td>False</td>\n",
       "      <td>False</td>\n",
       "      <td>True</td>\n",
       "      <td>False</td>\n",
       "      <td>False</td>\n",
       "      <td>False</td>\n",
       "    </tr>\n",
       "    <tr>\n",
       "      <th>3</th>\n",
       "      <td>0</td>\n",
       "      <td>33</td>\n",
       "      <td>3600</td>\n",
       "      <td>19200</td>\n",
       "      <td>1152</td>\n",
       "      <td>125</td>\n",
       "      <td>1127</td>\n",
       "      <td>68</td>\n",
       "      <td>885</td>\n",
       "      <td>8</td>\n",
       "      <td>...</td>\n",
       "      <td>False</td>\n",
       "      <td>True</td>\n",
       "      <td>False</td>\n",
       "      <td>True</td>\n",
       "      <td>False</td>\n",
       "      <td>False</td>\n",
       "      <td>False</td>\n",
       "      <td>True</td>\n",
       "      <td>False</td>\n",
       "      <td>False</td>\n",
       "    </tr>\n",
       "    <tr>\n",
       "      <th>4</th>\n",
       "      <td>0</td>\n",
       "      <td>38</td>\n",
       "      <td>3100</td>\n",
       "      <td>13300</td>\n",
       "      <td>1140</td>\n",
       "      <td>134</td>\n",
       "      <td>1128</td>\n",
       "      <td>48</td>\n",
       "      <td>873</td>\n",
       "      <td>8</td>\n",
       "      <td>...</td>\n",
       "      <td>False</td>\n",
       "      <td>True</td>\n",
       "      <td>False</td>\n",
       "      <td>True</td>\n",
       "      <td>False</td>\n",
       "      <td>False</td>\n",
       "      <td>False</td>\n",
       "      <td>False</td>\n",
       "      <td>True</td>\n",
       "      <td>False</td>\n",
       "    </tr>\n",
       "  </tbody>\n",
       "</table>\n",
       "<p>5 rows × 23 columns</p>\n",
       "</div>"
      ],
      "text/plain": [
       "   scale  pt_thick  pt_width  pt_length  fur_heat_temp  fur_heat_time  \\\n",
       "0      0        32      3700      15100           1144            116   \n",
       "1      0        32      3700      15100           1144            122   \n",
       "2      0        33      3600      19200           1129            116   \n",
       "3      0        33      3600      19200           1152            125   \n",
       "4      0        38      3100      13300           1140            134   \n",
       "\n",
       "   fur_soak_temp  fur_soak_time  rolling_temp  descaling_count  ...  hsb_미적용  \\\n",
       "0           1133             59           934                8  ...    False   \n",
       "1           1135             53           937                8  ...    False   \n",
       "2           1121             55           889                8  ...    False   \n",
       "3           1127             68           885                8  ...    False   \n",
       "4           1128             48           873                8  ...    False   \n",
       "\n",
       "   hsb_적용  rolling_method_CR(제어압연)  rolling_method_TMCP(온도제어)  furnace_1호기1열  \\\n",
       "0    True                    False                       True           True   \n",
       "1    True                    False                       True          False   \n",
       "2    True                    False                       True          False   \n",
       "3    True                    False                       True          False   \n",
       "4    True                    False                       True          False   \n",
       "\n",
       "   furnace_1호기2열  furnace_2호기1열  furnace_2호기2열  furnace_3호기1열  furnace_3호기2열  \n",
       "0          False          False          False          False          False  \n",
       "1           True          False          False          False          False  \n",
       "2          False           True          False          False          False  \n",
       "3          False          False           True          False          False  \n",
       "4          False          False          False           True          False  \n",
       "\n",
       "[5 rows x 23 columns]"
      ]
     },
     "execution_count": 3,
     "metadata": {},
     "output_type": "execute_result"
    }
   ],
   "source": [
    "df_raw_dummy = pd.get_dummies(df_raw)\n",
    "df_raw_dummy.head()"
   ]
  },
  {
   "cell_type": "markdown",
   "metadata": {},
   "source": [
    "#### 데이터 분리 : 목표변수 vs 설명변수"
   ]
  },
  {
   "cell_type": "code",
   "execution_count": 4,
   "metadata": {},
   "outputs": [
    {
     "name": "stdout",
     "output_type": "stream",
     "text": [
      "분할 전 설명변수 데이터 : (994, 22)\n",
      "분할 후 설명변수 데이터 :Train (695, 22)   Test (299, 22)\n"
     ]
    }
   ],
   "source": [
    "# 데이터 분리:설명변수, 목표변수 구분\n",
    "df_raw_x = df_raw_dummy.drop(\"scale\", axis = 1, inplace = False)\n",
    "df_raw_y = df_raw_dummy[\"scale\"] \n",
    "\n",
    "# 데이터 분할 train_test_split(X: 설명변수, Y: 목표변수, test_size = test 데이터 비율)\n",
    "df_train_x, df_test_x, df_train_y, df_test_y = train_test_split(\n",
    "    df_raw_x, df_raw_y, test_size = 0.3, random_state = 1234) \n",
    "\n",
    "print(\"분할 전 설명변수 데이터 :\", df_raw_x.shape)\n",
    "print(\"분할 후 설명변수 데이터 :Train\", df_train_x.shape, \"  Test\",df_test_x.shape)"
   ]
  },
  {
   "cell_type": "markdown",
   "metadata": {},
   "source": [
    "#### 목표빈수 빈도 확인"
   ]
  },
  {
   "cell_type": "code",
   "execution_count": 5,
   "metadata": {},
   "outputs": [
    {
     "name": "stdout",
     "output_type": "stream",
     "text": [
      "scale\n",
      "0        684\n",
      "1        310\n",
      "Name: count, dtype: int64 \n",
      "\n",
      "scale = 1 비율   scale\n",
      "False    0.688129\n",
      "True     0.311871\n",
      "Name: count, dtype: float64\n"
     ]
    }
   ],
   "source": [
    "# 목표변수 빈도 확인\n",
    "print(df_raw.value_counts([\"scale\"]),\"\\n\")\n",
    "print(\"scale = 1 비율  \", df_raw.value_counts(df_raw[\"scale\"]==1)/len(df_raw))"
   ]
  },
  {
   "cell_type": "markdown",
   "metadata": {},
   "source": [
    "#### Over Sampling"
   ]
  },
  {
   "cell_type": "code",
   "execution_count": 6,
   "metadata": {},
   "outputs": [
    {
     "name": "stdout",
     "output_type": "stream",
     "text": [
      "Over-Sampling 전:\n",
      " scale\n",
      "0    473\n",
      "1    222\n",
      "Name: count, dtype: int64 \n",
      "\n",
      "Over-Sampling 후 Train X: (946, 22)\n",
      "Over-Sampling 후 Train Y: (946,) \n",
      "\n",
      "Over-Sampling 후 '1':473\n",
      "Over-Sampling 후 '0':473\n"
     ]
    }
   ],
   "source": [
    "# Over-sampling 설정\n",
    "sm = SMOTE(sampling_strategy='auto', random_state=1234)\n",
    "\n",
    "# train데이터를 이용한 Over-sampling\n",
    "x_resampled, y_resampled = sm.fit_resample(df_train_x,df_train_y)\n",
    "\n",
    "# 결과 확인\n",
    "print('Over-Sampling 전:\\n',df_train_y.value_counts(),\"\\n\")\n",
    "print('Over-Sampling 후 Train X: {}'.format(x_resampled.shape))\n",
    "print('Over-Sampling 후 Train Y: {} \\n'.format(y_resampled.shape))\n",
    "\n",
    "print(\"Over-Sampling 후 '1':{}\".format(sum(y_resampled==1)))\n",
    "print(\"Over-Sampling 후 '0':{}\".format(sum(y_resampled==0)))\n",
    "\n",
    "# 변수명\n",
    "v_feature_name = x_resampled.columns"
   ]
  },
  {
   "cell_type": "markdown",
   "metadata": {},
   "source": [
    "#### 연속형 설명변수 scaling 변환 -> Pass\n",
    "오버샘플링한 train 데이터와 샘플링 안한 test 데이터 각각 표준화 작업을 번거롭게 거쳐야함.  \n",
    "DT, RF, XGBoost는 애초에 불필요 하여 Pass"
   ]
  },
  {
   "cell_type": "code",
   "execution_count": 22,
   "metadata": {},
   "outputs": [
    {
     "data": {
      "text/plain": [
       "'\\n# 연속형 변수 선택 : select_dtypes=\"object\" 제외\\ndf_raw_x_num = x_resampled.select_dtypes(exclude = \"object\")\\n\\n# 변수명 저장\\nv_feature_names = df_raw_x_num.columns\\n\\n# StandardScaler 적용\\nscaler = StandardScaler()\\ndf_x_scaled = scaler.fit_transform(df_raw_x_num)\\ndf_x_scaled = pd.DataFrame(df_x_scaled, columns=v_feature_names)\\n\\ndisplay(\"Scale 변환 전:\", df_raw_x_num.head())\\ndisplay(\"Scale 변환 후:\",df_x_scaled.head())'"
      ]
     },
     "execution_count": 22,
     "metadata": {},
     "output_type": "execute_result"
    }
   ],
   "source": [
    "'''\n",
    "# 연속형 변수 선택 : select_dtypes=\"object\" 제외\n",
    "df_raw_x_num = x_resampled.select_dtypes(exclude = \"object\")\n",
    "\n",
    "# 변수명 저장\n",
    "v_feature_names = df_raw_x_num.columns\n",
    "\n",
    "# StandardScaler 적용\n",
    "scaler = StandardScaler()\n",
    "df_x_scaled = scaler.fit_transform(df_raw_x_num)\n",
    "df_x_scaled = pd.DataFrame(df_x_scaled, columns=v_feature_names)\n",
    "\n",
    "display(\"Scale 변환 전:\", df_raw_x_num.head())\n",
    "display(\"Scale 변환 후:\",df_x_scaled.head())'''"
   ]
  },
  {
   "cell_type": "markdown",
   "metadata": {},
   "source": [
    "#### 설명변수 데이터 결합: scale된 연속형 + dummy된 범주형 -> Pass"
   ]
  },
  {
   "cell_type": "code",
   "execution_count": 23,
   "metadata": {},
   "outputs": [
    {
     "data": {
      "text/plain": [
       "'\\ndisplay(\"원래 설명변수:\", df_raw_x.head(3))\\n\\n# 원래 연속형(df_raw_x_num) + dummy된 범주형(df_x_dummy)\\ndf_x_raw_dummy = df_raw_x_num.join(df_x_dummy)\\ndisplay(\"원래 연속형+ Dummied 범주형...DT/RF/GB 용:\",df_x_raw_dummy.head(3))\\n\\n# scale된 연속형(df_x_scaled)+ dummy된 범주형(df_x_dummy)\\ndf_x_scale_dummy = df_x_scaled.join(df_x_dummy)\\ndisplay(\"Scaled 연속형+ Dummied 범주형...SVM/NN/KNN 용:\",df_x_scale_dummy.head(3))\\n\\n# scale된 연속형(df_x_scaled) + 원래 범주형(df_raw_x_char)\\ndf_x_scale_raw = df_x_scaled.join(df_raw_x_char)\\ndisplay(\"Scaled 연속형+ 원래 범주형...회귀분석용(표준화 회귀계수):\",df_x_scale_raw.head(3))'"
      ]
     },
     "execution_count": 23,
     "metadata": {},
     "output_type": "execute_result"
    }
   ],
   "source": [
    "'''\n",
    "display(\"원래 설명변수:\", df_raw_x.head(3))\n",
    "\n",
    "# 원래 연속형(df_raw_x_num) + dummy된 범주형(df_x_dummy)\n",
    "df_x_raw_dummy = df_raw_x_num.join(df_x_dummy)\n",
    "display(\"원래 연속형+ Dummied 범주형...DT/RF/GB 용:\",df_x_raw_dummy.head(3))\n",
    "\n",
    "# scale된 연속형(df_x_scaled)+ dummy된 범주형(df_x_dummy)\n",
    "df_x_scale_dummy = df_x_scaled.join(df_x_dummy)\n",
    "display(\"Scaled 연속형+ Dummied 범주형...SVM/NN/KNN 용:\",df_x_scale_dummy.head(3))\n",
    "\n",
    "# scale된 연속형(df_x_scaled) + 원래 범주형(df_raw_x_char)\n",
    "df_x_scale_raw = df_x_scaled.join(df_raw_x_char)\n",
    "display(\"Scaled 연속형+ 원래 범주형...회귀분석용(표준화 회귀계수):\",df_x_scale_raw.head(3))'''"
   ]
  },
  {
   "cell_type": "markdown",
   "metadata": {},
   "source": [
    "#### 데이터 분할:Train vs. Test -> 불필요"
   ]
  },
  {
   "cell_type": "code",
   "execution_count": 24,
   "metadata": {},
   "outputs": [
    {
     "data": {
      "text/plain": [
       "'\\n# 원래 연속형+ Dummied 범주형...DT/RF/GB 용:df_x_raw_dummy\\ndf_train_x_rd, df_test_x_rd, df_train_y, df_test_y = train_test_split(df_x_raw_dummy, df_raw_y\\n                                    , test_size = 0.3, random_state = 1234)\\n\\ndisplay(\"원래 연속형+ Dummied 범주형...DT/RF/GB 용:\", df_train_x_rd.head())\\n\\n# 기계학습용 데이터(Scaled 연속형+ Dummied 범주형) 분할:df_x_scale_dummy \\ndf_train_x_sd, df_test_x_sd, df_train_y, df_test_y = train_test_split(df_x_scale_dummy, df_raw_y\\n                                    , test_size = 0.3, random_state = 1234)\\n\\ndisplay(\"Scaled 연속형+ Dummied 범주형...SVM/NN/KNN 용:\", df_train_x_sd.head())\\n\\n# 회귀분석용(표준화 회귀계수) 데이터(Scaled 연속형+ 원래 범주형) 분할:df_x_scale_raw \\ndf_train_x_reg, df_test_x_reg, df_train_y, df_test_y = train_test_split(df_x_scale_raw, df_raw_y\\n                                    , test_size = 0.3, random_state = 1234)\\n\\ndisplay(\"Scaled 연속형+ 원래 범주형...회귀분석용(표준화 회귀계수):\",df_train_x_reg.head())'"
      ]
     },
     "execution_count": 24,
     "metadata": {},
     "output_type": "execute_result"
    }
   ],
   "source": [
    "'''\n",
    "# 원래 연속형+ Dummied 범주형...DT/RF/GB 용:df_x_raw_dummy\n",
    "df_train_x_rd, df_test_x_rd, df_train_y, df_test_y = train_test_split(df_x_raw_dummy, df_raw_y\n",
    "                                    , test_size = 0.3, random_state = 1234)\n",
    "\n",
    "display(\"원래 연속형+ Dummied 범주형...DT/RF/GB 용:\", df_train_x_rd.head())\n",
    "\n",
    "# 기계학습용 데이터(Scaled 연속형+ Dummied 범주형) 분할:df_x_scale_dummy \n",
    "df_train_x_sd, df_test_x_sd, df_train_y, df_test_y = train_test_split(df_x_scale_dummy, df_raw_y\n",
    "                                    , test_size = 0.3, random_state = 1234)\n",
    "\n",
    "display(\"Scaled 연속형+ Dummied 범주형...SVM/NN/KNN 용:\", df_train_x_sd.head())\n",
    "\n",
    "# 회귀분석용(표준화 회귀계수) 데이터(Scaled 연속형+ 원래 범주형) 분할:df_x_scale_raw \n",
    "df_train_x_reg, df_test_x_reg, df_train_y, df_test_y = train_test_split(df_x_scale_raw, df_raw_y\n",
    "                                    , test_size = 0.3, random_state = 1234)\n",
    "\n",
    "display(\"Scaled 연속형+ 원래 범주형...회귀분석용(표준화 회귀계수):\",df_train_x_reg.head())'''"
   ]
  },
  {
   "cell_type": "markdown",
   "metadata": {},
   "source": [
    "### Decesion Tree"
   ]
  },
  {
   "cell_type": "code",
   "execution_count": 8,
   "metadata": {},
   "outputs": [
    {
     "name": "stdout",
     "output_type": "stream",
     "text": [
      "best estimator model: \n",
      "DecisionTreeClassifier(max_depth=10, min_samples_leaf=2, min_samples_split=9)\n",
      "\n",
      "best parameter: \n",
      "{'min_samples_split': 9, 'min_samples_leaf': 2, 'max_depth': 10}\n",
      "\n",
      "best score: \n",
      "0.993\n"
     ]
    }
   ],
   "source": [
    "# RandomizedSearchCV를 이용한 최적 parameter로 커스텀\n",
    "estimator = DecisionTreeClassifier()\n",
    "\n",
    "# 구하고자 하는 parameter와 범위 (분류용 criterion으로 변경)\n",
    "param_grid = {\n",
    "    \"max_depth\": [int(x) for x in range(1, 31)],            # 최대 깊이\n",
    "    \"min_samples_split\": [int(x) for x in range(2, 51)],    # 노드를 분할하기 위한 최소 샘플 수\n",
    "    \"min_samples_leaf\": [int(x) for x in range(1, 31)]      # 리프 노드가 되기 위한 최소 샘플 수\n",
    "}\n",
    "\n",
    "# 설명력이 높은 최적 parameter 찾기\n",
    "rand_dt = RandomizedSearchCV(estimator,\n",
    "    param_distributions=param_grid,\n",
    "    n_iter=500,\n",
    "    scoring=\"accuracy\",\n",
    "    n_jobs=-1, \n",
    "    random_state=1234\n",
    ")\n",
    "rand_dt.fit(x_resampled, y_resampled)\n",
    "\n",
    "print(\"best estimator model: \\n{}\".format(rand_dt.best_estimator_))\n",
    "print(\"\\nbest parameter: \\n{}\".format(rand_dt.best_params_))\n",
    "print(\"\\nbest score: \\n{}\".format(rand_dt.best_score_.round(3)))\n"
   ]
  },
  {
   "cell_type": "code",
   "execution_count": 23,
   "metadata": {},
   "outputs": [
    {
     "data": {
      "text/html": [
       "<style>#sk-container-id-3 {color: black;background-color: white;}#sk-container-id-3 pre{padding: 0;}#sk-container-id-3 div.sk-toggleable {background-color: white;}#sk-container-id-3 label.sk-toggleable__label {cursor: pointer;display: block;width: 100%;margin-bottom: 0;padding: 0.3em;box-sizing: border-box;text-align: center;}#sk-container-id-3 label.sk-toggleable__label-arrow:before {content: \"▸\";float: left;margin-right: 0.25em;color: #696969;}#sk-container-id-3 label.sk-toggleable__label-arrow:hover:before {color: black;}#sk-container-id-3 div.sk-estimator:hover label.sk-toggleable__label-arrow:before {color: black;}#sk-container-id-3 div.sk-toggleable__content {max-height: 0;max-width: 0;overflow: hidden;text-align: left;background-color: #f0f8ff;}#sk-container-id-3 div.sk-toggleable__content pre {margin: 0.2em;color: black;border-radius: 0.25em;background-color: #f0f8ff;}#sk-container-id-3 input.sk-toggleable__control:checked~div.sk-toggleable__content {max-height: 200px;max-width: 100%;overflow: auto;}#sk-container-id-3 input.sk-toggleable__control:checked~label.sk-toggleable__label-arrow:before {content: \"▾\";}#sk-container-id-3 div.sk-estimator input.sk-toggleable__control:checked~label.sk-toggleable__label {background-color: #d4ebff;}#sk-container-id-3 div.sk-label input.sk-toggleable__control:checked~label.sk-toggleable__label {background-color: #d4ebff;}#sk-container-id-3 input.sk-hidden--visually {border: 0;clip: rect(1px 1px 1px 1px);clip: rect(1px, 1px, 1px, 1px);height: 1px;margin: -1px;overflow: hidden;padding: 0;position: absolute;width: 1px;}#sk-container-id-3 div.sk-estimator {font-family: monospace;background-color: #f0f8ff;border: 1px dotted black;border-radius: 0.25em;box-sizing: border-box;margin-bottom: 0.5em;}#sk-container-id-3 div.sk-estimator:hover {background-color: #d4ebff;}#sk-container-id-3 div.sk-parallel-item::after {content: \"\";width: 100%;border-bottom: 1px solid gray;flex-grow: 1;}#sk-container-id-3 div.sk-label:hover label.sk-toggleable__label {background-color: #d4ebff;}#sk-container-id-3 div.sk-serial::before {content: \"\";position: absolute;border-left: 1px solid gray;box-sizing: border-box;top: 0;bottom: 0;left: 50%;z-index: 0;}#sk-container-id-3 div.sk-serial {display: flex;flex-direction: column;align-items: center;background-color: white;padding-right: 0.2em;padding-left: 0.2em;position: relative;}#sk-container-id-3 div.sk-item {position: relative;z-index: 1;}#sk-container-id-3 div.sk-parallel {display: flex;align-items: stretch;justify-content: center;background-color: white;position: relative;}#sk-container-id-3 div.sk-item::before, #sk-container-id-3 div.sk-parallel-item::before {content: \"\";position: absolute;border-left: 1px solid gray;box-sizing: border-box;top: 0;bottom: 0;left: 50%;z-index: -1;}#sk-container-id-3 div.sk-parallel-item {display: flex;flex-direction: column;z-index: 1;position: relative;background-color: white;}#sk-container-id-3 div.sk-parallel-item:first-child::after {align-self: flex-end;width: 50%;}#sk-container-id-3 div.sk-parallel-item:last-child::after {align-self: flex-start;width: 50%;}#sk-container-id-3 div.sk-parallel-item:only-child::after {width: 0;}#sk-container-id-3 div.sk-dashed-wrapped {border: 1px dashed gray;margin: 0 0.4em 0.5em 0.4em;box-sizing: border-box;padding-bottom: 0.4em;background-color: white;}#sk-container-id-3 div.sk-label label {font-family: monospace;font-weight: bold;display: inline-block;line-height: 1.2em;}#sk-container-id-3 div.sk-label-container {text-align: center;}#sk-container-id-3 div.sk-container {/* jupyter's `normalize.less` sets `[hidden] { display: none; }` but bootstrap.min.css set `[hidden] { display: none !important; }` so we also need the `!important` here to be able to override the default hidden behavior on the sphinx rendered scikit-learn.org. See: https://github.com/scikit-learn/scikit-learn/issues/21755 */display: inline-block !important;position: relative;}#sk-container-id-3 div.sk-text-repr-fallback {display: none;}</style><div id=\"sk-container-id-3\" class=\"sk-top-container\"><div class=\"sk-text-repr-fallback\"><pre>DecisionTreeClassifier(max_depth=10, min_samples_leaf=2, min_samples_split=9,\n",
       "                       random_state=1234)</pre><b>In a Jupyter environment, please rerun this cell to show the HTML representation or trust the notebook. <br />On GitHub, the HTML representation is unable to render, please try loading this page with nbviewer.org.</b></div><div class=\"sk-container\" hidden><div class=\"sk-item\"><div class=\"sk-estimator sk-toggleable\"><input class=\"sk-toggleable__control sk-hidden--visually\" id=\"sk-estimator-id-3\" type=\"checkbox\" checked><label for=\"sk-estimator-id-3\" class=\"sk-toggleable__label sk-toggleable__label-arrow\">DecisionTreeClassifier</label><div class=\"sk-toggleable__content\"><pre>DecisionTreeClassifier(max_depth=10, min_samples_leaf=2, min_samples_split=9,\n",
       "                       random_state=1234)</pre></div></div></div></div></div>"
      ],
      "text/plain": [
       "DecisionTreeClassifier(max_depth=10, min_samples_leaf=2, min_samples_split=9,\n",
       "                       random_state=1234)"
      ]
     },
     "execution_count": 23,
     "metadata": {},
     "output_type": "execute_result"
    }
   ],
   "source": [
    "# 모델 생성\n",
    "rand_dt = DecisionTreeClassifier(max_depth=10, min_samples_leaf=2, min_samples_split=9, random_state=1234)\n",
    "rand_dt.fit(x_resampled, y_resampled)"
   ]
  },
  {
   "cell_type": "code",
   "execution_count": 24,
   "metadata": {},
   "outputs": [
    {
     "name": "stdout",
     "output_type": "stream",
     "text": [
      "Test Accuracy: 0.998\n",
      "\n",
      "Accuracy on test set: 0.993\n",
      "\n",
      "Test Confusion matrix: \n",
      "[[210   1]\n",
      " [  1  87]]\n",
      "              precision    recall  f1-score   support\n",
      "\n",
      "           0      0.995     0.995     0.995       211\n",
      "           1      0.989     0.989     0.989        88\n",
      "\n",
      "    accuracy                          0.993       299\n",
      "   macro avg      0.992     0.992     0.992       299\n",
      "weighted avg      0.993     0.993     0.993       299\n",
      "\n"
     ]
    }
   ],
   "source": [
    "# 평가\n",
    "y_pred = rand_dt.predict(df_test_x)\n",
    "\n",
    "# train 데이터 정확도\n",
    "print(\"Test Accuracy: {0:.3f}\\n\".format(rand_dt.score(x_resampled, y_resampled)))\n",
    "\n",
    "# test 데이터 정확도\n",
    "print(\"Accuracy on test set: {:.3f}\\n\".format(rand_dt.score(df_test_x, df_test_y)))\n",
    "\n",
    "print(\"Test Confusion matrix: \\n{}\".format(confusion_matrix(df_test_y, y_pred)))\n",
    "\n",
    "# 목표변수의 빈도 불균형 : f1 score로 모델 평가 \n",
    "print(classification_report(df_test_y, y_pred, digits=3))"
   ]
  },
  {
   "cell_type": "code",
   "execution_count": 25,
   "metadata": {},
   "outputs": [
    {
     "data": {
      "text/html": [
       "<div>\n",
       "<style scoped>\n",
       "    .dataframe tbody tr th:only-of-type {\n",
       "        vertical-align: middle;\n",
       "    }\n",
       "\n",
       "    .dataframe tbody tr th {\n",
       "        vertical-align: top;\n",
       "    }\n",
       "\n",
       "    .dataframe thead th {\n",
       "        text-align: right;\n",
       "    }\n",
       "</style>\n",
       "<table border=\"1\" class=\"dataframe\">\n",
       "  <thead>\n",
       "    <tr style=\"text-align: right;\">\n",
       "      <th></th>\n",
       "      <th>Feature</th>\n",
       "      <th>Importance</th>\n",
       "    </tr>\n",
       "  </thead>\n",
       "  <tbody>\n",
       "    <tr>\n",
       "      <th>7</th>\n",
       "      <td>rolling_temp</td>\n",
       "      <td>0.450</td>\n",
       "    </tr>\n",
       "    <tr>\n",
       "      <th>13</th>\n",
       "      <td>hsb_적용</td>\n",
       "      <td>0.212</td>\n",
       "    </tr>\n",
       "    <tr>\n",
       "      <th>0</th>\n",
       "      <td>pt_thick</td>\n",
       "      <td>0.129</td>\n",
       "    </tr>\n",
       "    <tr>\n",
       "      <th>5</th>\n",
       "      <td>fur_soak_temp</td>\n",
       "      <td>0.118</td>\n",
       "    </tr>\n",
       "    <tr>\n",
       "      <th>8</th>\n",
       "      <td>descaling_count</td>\n",
       "      <td>0.082</td>\n",
       "    </tr>\n",
       "    <tr>\n",
       "      <th>3</th>\n",
       "      <td>fur_heat_temp</td>\n",
       "      <td>0.007</td>\n",
       "    </tr>\n",
       "    <tr>\n",
       "      <th>4</th>\n",
       "      <td>fur_heat_time</td>\n",
       "      <td>0.002</td>\n",
       "    </tr>\n",
       "    <tr>\n",
       "      <th>2</th>\n",
       "      <td>pt_length</td>\n",
       "      <td>0.001</td>\n",
       "    </tr>\n",
       "    <tr>\n",
       "      <th>15</th>\n",
       "      <td>rolling_method_TMCP(온도제어)</td>\n",
       "      <td>0.000</td>\n",
       "    </tr>\n",
       "    <tr>\n",
       "      <th>20</th>\n",
       "      <td>furnace_3호기1열</td>\n",
       "      <td>0.000</td>\n",
       "    </tr>\n",
       "    <tr>\n",
       "      <th>19</th>\n",
       "      <td>furnace_2호기2열</td>\n",
       "      <td>0.000</td>\n",
       "    </tr>\n",
       "    <tr>\n",
       "      <th>18</th>\n",
       "      <td>furnace_2호기1열</td>\n",
       "      <td>0.000</td>\n",
       "    </tr>\n",
       "    <tr>\n",
       "      <th>17</th>\n",
       "      <td>furnace_1호기2열</td>\n",
       "      <td>0.000</td>\n",
       "    </tr>\n",
       "    <tr>\n",
       "      <th>16</th>\n",
       "      <td>furnace_1호기1열</td>\n",
       "      <td>0.000</td>\n",
       "    </tr>\n",
       "    <tr>\n",
       "      <th>11</th>\n",
       "      <td>steel_kind_T</td>\n",
       "      <td>0.000</td>\n",
       "    </tr>\n",
       "    <tr>\n",
       "      <th>14</th>\n",
       "      <td>rolling_method_CR(제어압연)</td>\n",
       "      <td>0.000</td>\n",
       "    </tr>\n",
       "    <tr>\n",
       "      <th>12</th>\n",
       "      <td>hsb_미적용</td>\n",
       "      <td>0.000</td>\n",
       "    </tr>\n",
       "    <tr>\n",
       "      <th>1</th>\n",
       "      <td>pt_width</td>\n",
       "      <td>0.000</td>\n",
       "    </tr>\n",
       "    <tr>\n",
       "      <th>10</th>\n",
       "      <td>steel_kind_C</td>\n",
       "      <td>0.000</td>\n",
       "    </tr>\n",
       "    <tr>\n",
       "      <th>9</th>\n",
       "      <td>fur_preheat_time</td>\n",
       "      <td>0.000</td>\n",
       "    </tr>\n",
       "    <tr>\n",
       "      <th>6</th>\n",
       "      <td>fur_soak_time</td>\n",
       "      <td>0.000</td>\n",
       "    </tr>\n",
       "    <tr>\n",
       "      <th>21</th>\n",
       "      <td>furnace_3호기2열</td>\n",
       "      <td>0.000</td>\n",
       "    </tr>\n",
       "  </tbody>\n",
       "</table>\n",
       "</div>"
      ],
      "text/plain": [
       "                      Feature  Importance\n",
       "7                rolling_temp       0.450\n",
       "13                     hsb_적용       0.212\n",
       "0                    pt_thick       0.129\n",
       "5               fur_soak_temp       0.118\n",
       "8             descaling_count       0.082\n",
       "3               fur_heat_temp       0.007\n",
       "4               fur_heat_time       0.002\n",
       "2                   pt_length       0.001\n",
       "15  rolling_method_TMCP(온도제어)       0.000\n",
       "20              furnace_3호기1열       0.000\n",
       "19              furnace_2호기2열       0.000\n",
       "18              furnace_2호기1열       0.000\n",
       "17              furnace_1호기2열       0.000\n",
       "16              furnace_1호기1열       0.000\n",
       "11               steel_kind_T       0.000\n",
       "14    rolling_method_CR(제어압연)       0.000\n",
       "12                    hsb_미적용       0.000\n",
       "1                    pt_width       0.000\n",
       "10               steel_kind_C       0.000\n",
       "9            fur_preheat_time       0.000\n",
       "6               fur_soak_time       0.000\n",
       "21              furnace_3호기2열       0.000"
      ]
     },
     "execution_count": 25,
     "metadata": {},
     "output_type": "execute_result"
    }
   ],
   "source": [
    "# 설명변수 중요도\n",
    "# tree.feature_importances_로 설명변수 중요도 확인 및 테이블로 저장\n",
    "df_importance = pd.DataFrame()\n",
    "df_importance[\"Feature\"] = v_feature_name\n",
    "df_importance[\"Importance\"] = rand_dt.feature_importances_\n",
    "\n",
    "# df_feature_importance의 테이블을 중요도별로 정렬\n",
    "df_importance.sort_values(\"Importance\", ascending=False, inplace = True)\n",
    "df_importance.round(3)"
   ]
  },
  {
   "cell_type": "code",
   "execution_count": 27,
   "metadata": {},
   "outputs": [
    {
     "data": {
      "text/plain": [
       "Text(0, 0.5, '설명변수')"
      ]
     },
     "execution_count": 27,
     "metadata": {},
     "output_type": "execute_result"
    },
    {
     "data": {
      "image/png": "[encoded data removed]",
      "text/plain": [
       "<Figure size 640x480 with 1 Axes>"
      ]
     },
     "metadata": {},
     "output_type": "display_data"
    }
   ],
   "source": [
    "# 설명변수 중요도 그래프\n",
    "# sort_values : 중요도가 높은 변수를 상위에 그림. \n",
    "df_importance.sort_values(\"Importance\", ascending=True, inplace = True)\n",
    "coordinates = range(len(df_importance))\n",
    "\n",
    "df_top = df_importance.tail(15)\n",
    "coordinates = range(len(df_top))\n",
    "plt.barh(y = coordinates, width = df_top[\"Importance\"])\n",
    "plt.yticks(coordinates, df_top[\"Feature\"])\n",
    "plt.xlabel(\"설명변수 중요도\")\n",
    "plt.ylabel(\"설명변수\")"
   ]
  },
  {
   "cell_type": "markdown",
   "metadata": {},
   "source": [
    "### Random Forest"
   ]
  },
  {
   "cell_type": "code",
   "execution_count": 9,
   "metadata": {},
   "outputs": [
    {
     "name": "stdout",
     "output_type": "stream",
     "text": [
      "Best estimator model: \n",
      "RandomForestClassifier(max_depth=13, min_samples_split=9, n_estimators=250)\n",
      "\n",
      "Best parameter: \n",
      "{'n_estimators': 250, 'min_samples_split': 9, 'min_samples_leaf': 1, 'max_depth': 13}\n",
      "\n",
      "Best score: \n",
      "0.977\n"
     ]
    }
   ],
   "source": [
    "# RandomForestClassifier 모델 설정\n",
    "estimator = RandomForestClassifier()\n",
    "\n",
    "# RandomForestClassifier에 맞는 하이퍼파라미터 범위 설정\n",
    "param_grid = {\n",
    "    \"n_estimators\": [int(x) for x in range(50, 501, 50)],   # 트리 개수\n",
    "    \"max_depth\": [int(x) for x in range(1, 31)],            # 최대 깊이\n",
    "    \"min_samples_split\": [int(x) for x in range(2, 51)],    # 노드를 분할하기 위한 최소 샘플 수\n",
    "    \"min_samples_leaf\": [int(x) for x in range(1, 31)]      # 리프 노드가 되기 위한 최소 샘플 수\n",
    "}\n",
    "\n",
    "# RandomizedSearchCV 설정 및 학습\n",
    "rand_rf = RandomizedSearchCV(\n",
    "    estimator=estimator,\n",
    "    param_distributions=param_grid,\n",
    "    n_iter=500,\n",
    "    scoring=\"accuracy\",   # 분류 문제에 적합한 평가지표\n",
    "    n_jobs=-1,\n",
    "    random_state=1234\n",
    ")\n",
    "\n",
    "# 오버샘플링된 학습 데이터 사용\n",
    "rand_rf.fit(x_resampled, y_resampled)\n",
    "\n",
    "# 최적의 결과 출력\n",
    "print(\"Best estimator model: \\n{}\".format(rand_rf.best_estimator_))\n",
    "print(\"\\nBest parameter: \\n{}\".format(rand_rf.best_params_))\n",
    "print(\"\\nBest score: \\n{}\".format(rand_rf.best_score_.round(3)))\n",
    "\n"
   ]
  },
  {
   "cell_type": "code",
   "execution_count": 29,
   "metadata": {},
   "outputs": [
    {
     "data": {
      "text/html": [
       "<style>#sk-container-id-5 {color: black;background-color: white;}#sk-container-id-5 pre{padding: 0;}#sk-container-id-5 div.sk-toggleable {background-color: white;}#sk-container-id-5 label.sk-toggleable__label {cursor: pointer;display: block;width: 100%;margin-bottom: 0;padding: 0.3em;box-sizing: border-box;text-align: center;}#sk-container-id-5 label.sk-toggleable__label-arrow:before {content: \"▸\";float: left;margin-right: 0.25em;color: #696969;}#sk-container-id-5 label.sk-toggleable__label-arrow:hover:before {color: black;}#sk-container-id-5 div.sk-estimator:hover label.sk-toggleable__label-arrow:before {color: black;}#sk-container-id-5 div.sk-toggleable__content {max-height: 0;max-width: 0;overflow: hidden;text-align: left;background-color: #f0f8ff;}#sk-container-id-5 div.sk-toggleable__content pre {margin: 0.2em;color: black;border-radius: 0.25em;background-color: #f0f8ff;}#sk-container-id-5 input.sk-toggleable__control:checked~div.sk-toggleable__content {max-height: 200px;max-width: 100%;overflow: auto;}#sk-container-id-5 input.sk-toggleable__control:checked~label.sk-toggleable__label-arrow:before {content: \"▾\";}#sk-container-id-5 div.sk-estimator input.sk-toggleable__control:checked~label.sk-toggleable__label {background-color: #d4ebff;}#sk-container-id-5 div.sk-label input.sk-toggleable__control:checked~label.sk-toggleable__label {background-color: #d4ebff;}#sk-container-id-5 input.sk-hidden--visually {border: 0;clip: rect(1px 1px 1px 1px);clip: rect(1px, 1px, 1px, 1px);height: 1px;margin: -1px;overflow: hidden;padding: 0;position: absolute;width: 1px;}#sk-container-id-5 div.sk-estimator {font-family: monospace;background-color: #f0f8ff;border: 1px dotted black;border-radius: 0.25em;box-sizing: border-box;margin-bottom: 0.5em;}#sk-container-id-5 div.sk-estimator:hover {background-color: #d4ebff;}#sk-container-id-5 div.sk-parallel-item::after {content: \"\";width: 100%;border-bottom: 1px solid gray;flex-grow: 1;}#sk-container-id-5 div.sk-label:hover label.sk-toggleable__label {background-color: #d4ebff;}#sk-container-id-5 div.sk-serial::before {content: \"\";position: absolute;border-left: 1px solid gray;box-sizing: border-box;top: 0;bottom: 0;left: 50%;z-index: 0;}#sk-container-id-5 div.sk-serial {display: flex;flex-direction: column;align-items: center;background-color: white;padding-right: 0.2em;padding-left: 0.2em;position: relative;}#sk-container-id-5 div.sk-item {position: relative;z-index: 1;}#sk-container-id-5 div.sk-parallel {display: flex;align-items: stretch;justify-content: center;background-color: white;position: relative;}#sk-container-id-5 div.sk-item::before, #sk-container-id-5 div.sk-parallel-item::before {content: \"\";position: absolute;border-left: 1px solid gray;box-sizing: border-box;top: 0;bottom: 0;left: 50%;z-index: -1;}#sk-container-id-5 div.sk-parallel-item {display: flex;flex-direction: column;z-index: 1;position: relative;background-color: white;}#sk-container-id-5 div.sk-parallel-item:first-child::after {align-self: flex-end;width: 50%;}#sk-container-id-5 div.sk-parallel-item:last-child::after {align-self: flex-start;width: 50%;}#sk-container-id-5 div.sk-parallel-item:only-child::after {width: 0;}#sk-container-id-5 div.sk-dashed-wrapped {border: 1px dashed gray;margin: 0 0.4em 0.5em 0.4em;box-sizing: border-box;padding-bottom: 0.4em;background-color: white;}#sk-container-id-5 div.sk-label label {font-family: monospace;font-weight: bold;display: inline-block;line-height: 1.2em;}#sk-container-id-5 div.sk-label-container {text-align: center;}#sk-container-id-5 div.sk-container {/* jupyter's `normalize.less` sets `[hidden] { display: none; }` but bootstrap.min.css set `[hidden] { display: none !important; }` so we also need the `!important` here to be able to override the default hidden behavior on the sphinx rendered scikit-learn.org. See: https://github.com/scikit-learn/scikit-learn/issues/21755 */display: inline-block !important;position: relative;}#sk-container-id-5 div.sk-text-repr-fallback {display: none;}</style><div id=\"sk-container-id-5\" class=\"sk-top-container\"><div class=\"sk-text-repr-fallback\"><pre>RandomForestClassifier(max_depth=13, min_samples_split=9, n_estimators=250,\n",
       "                       random_state=1234)</pre><b>In a Jupyter environment, please rerun this cell to show the HTML representation or trust the notebook. <br />On GitHub, the HTML representation is unable to render, please try loading this page with nbviewer.org.</b></div><div class=\"sk-container\" hidden><div class=\"sk-item\"><div class=\"sk-estimator sk-toggleable\"><input class=\"sk-toggleable__control sk-hidden--visually\" id=\"sk-estimator-id-5\" type=\"checkbox\" checked><label for=\"sk-estimator-id-5\" class=\"sk-toggleable__label sk-toggleable__label-arrow\">RandomForestClassifier</label><div class=\"sk-toggleable__content\"><pre>RandomForestClassifier(max_depth=13, min_samples_split=9, n_estimators=250,\n",
       "                       random_state=1234)</pre></div></div></div></div></div>"
      ],
      "text/plain": [
       "RandomForestClassifier(max_depth=13, min_samples_split=9, n_estimators=250,\n",
       "                       random_state=1234)"
      ]
     },
     "execution_count": 29,
     "metadata": {},
     "output_type": "execute_result"
    }
   ],
   "source": [
    "# 모델 생성\n",
    "rand_rf = RandomForestClassifier(max_depth=13, min_samples_split=9, n_estimators=250, random_state=1234)\n",
    "rand_rf.fit(x_resampled, y_resampled)"
   ]
  },
  {
   "cell_type": "code",
   "execution_count": 30,
   "metadata": {},
   "outputs": [
    {
     "name": "stdout",
     "output_type": "stream",
     "text": [
      "Test Accuracy: 0.999\n",
      "\n",
      "Accuracy on test set: 0.960\n",
      "\n",
      "Test Confusion matrix: \n",
      "[[205   6]\n",
      " [  6  82]]\n",
      "              precision    recall  f1-score   support\n",
      "\n",
      "           0      0.972     0.972     0.972       211\n",
      "           1      0.932     0.932     0.932        88\n",
      "\n",
      "    accuracy                          0.960       299\n",
      "   macro avg      0.952     0.952     0.952       299\n",
      "weighted avg      0.960     0.960     0.960       299\n",
      "\n"
     ]
    }
   ],
   "source": [
    "# 평가\n",
    "y_pred = rand_rf.predict(df_test_x)\n",
    "\n",
    "# train 데이터 정확도\n",
    "print(\"Test Accuracy: {0:.3f}\\n\".format(rand_rf.score(x_resampled, y_resampled)))\n",
    "\n",
    "# test 데이터 정확도\n",
    "print(\"Accuracy on test set: {:.3f}\\n\".format(rand_rf.score(df_test_x, df_test_y)))\n",
    "\n",
    "print(\"Test Confusion matrix: \\n{}\".format(confusion_matrix(df_test_y, y_pred)))\n",
    "\n",
    "# 목표변수의 빈도 불균형 : f1 score로 모델 평가 \n",
    "print(classification_report(df_test_y, y_pred, digits=3))"
   ]
  },
  {
   "cell_type": "code",
   "execution_count": 32,
   "metadata": {},
   "outputs": [
    {
     "data": {
      "text/html": [
       "<div>\n",
       "<style scoped>\n",
       "    .dataframe tbody tr th:only-of-type {\n",
       "        vertical-align: middle;\n",
       "    }\n",
       "\n",
       "    .dataframe tbody tr th {\n",
       "        vertical-align: top;\n",
       "    }\n",
       "\n",
       "    .dataframe thead th {\n",
       "        text-align: right;\n",
       "    }\n",
       "</style>\n",
       "<table border=\"1\" class=\"dataframe\">\n",
       "  <thead>\n",
       "    <tr style=\"text-align: right;\">\n",
       "      <th></th>\n",
       "      <th>Feature</th>\n",
       "      <th>Importance</th>\n",
       "    </tr>\n",
       "  </thead>\n",
       "  <tbody>\n",
       "    <tr>\n",
       "      <th>7</th>\n",
       "      <td>rolling_temp</td>\n",
       "      <td>0.263</td>\n",
       "    </tr>\n",
       "    <tr>\n",
       "      <th>8</th>\n",
       "      <td>descaling_count</td>\n",
       "      <td>0.124</td>\n",
       "    </tr>\n",
       "    <tr>\n",
       "      <th>5</th>\n",
       "      <td>fur_soak_temp</td>\n",
       "      <td>0.109</td>\n",
       "    </tr>\n",
       "    <tr>\n",
       "      <th>13</th>\n",
       "      <td>hsb_적용</td>\n",
       "      <td>0.107</td>\n",
       "    </tr>\n",
       "    <tr>\n",
       "      <th>1</th>\n",
       "      <td>pt_width</td>\n",
       "      <td>0.062</td>\n",
       "    </tr>\n",
       "    <tr>\n",
       "      <th>2</th>\n",
       "      <td>pt_length</td>\n",
       "      <td>0.055</td>\n",
       "    </tr>\n",
       "    <tr>\n",
       "      <th>3</th>\n",
       "      <td>fur_heat_temp</td>\n",
       "      <td>0.055</td>\n",
       "    </tr>\n",
       "    <tr>\n",
       "      <th>0</th>\n",
       "      <td>pt_thick</td>\n",
       "      <td>0.052</td>\n",
       "    </tr>\n",
       "    <tr>\n",
       "      <th>11</th>\n",
       "      <td>steel_kind_T</td>\n",
       "      <td>0.034</td>\n",
       "    </tr>\n",
       "    <tr>\n",
       "      <th>12</th>\n",
       "      <td>hsb_미적용</td>\n",
       "      <td>0.027</td>\n",
       "    </tr>\n",
       "    <tr>\n",
       "      <th>4</th>\n",
       "      <td>fur_heat_time</td>\n",
       "      <td>0.023</td>\n",
       "    </tr>\n",
       "    <tr>\n",
       "      <th>6</th>\n",
       "      <td>fur_soak_time</td>\n",
       "      <td>0.020</td>\n",
       "    </tr>\n",
       "    <tr>\n",
       "      <th>10</th>\n",
       "      <td>steel_kind_C</td>\n",
       "      <td>0.019</td>\n",
       "    </tr>\n",
       "    <tr>\n",
       "      <th>9</th>\n",
       "      <td>fur_preheat_time</td>\n",
       "      <td>0.015</td>\n",
       "    </tr>\n",
       "    <tr>\n",
       "      <th>15</th>\n",
       "      <td>rolling_method_TMCP(온도제어)</td>\n",
       "      <td>0.011</td>\n",
       "    </tr>\n",
       "    <tr>\n",
       "      <th>14</th>\n",
       "      <td>rolling_method_CR(제어압연)</td>\n",
       "      <td>0.006</td>\n",
       "    </tr>\n",
       "    <tr>\n",
       "      <th>21</th>\n",
       "      <td>furnace_3호기2열</td>\n",
       "      <td>0.005</td>\n",
       "    </tr>\n",
       "    <tr>\n",
       "      <th>17</th>\n",
       "      <td>furnace_1호기2열</td>\n",
       "      <td>0.003</td>\n",
       "    </tr>\n",
       "    <tr>\n",
       "      <th>19</th>\n",
       "      <td>furnace_2호기2열</td>\n",
       "      <td>0.003</td>\n",
       "    </tr>\n",
       "    <tr>\n",
       "      <th>20</th>\n",
       "      <td>furnace_3호기1열</td>\n",
       "      <td>0.003</td>\n",
       "    </tr>\n",
       "    <tr>\n",
       "      <th>18</th>\n",
       "      <td>furnace_2호기1열</td>\n",
       "      <td>0.003</td>\n",
       "    </tr>\n",
       "    <tr>\n",
       "      <th>16</th>\n",
       "      <td>furnace_1호기1열</td>\n",
       "      <td>0.001</td>\n",
       "    </tr>\n",
       "  </tbody>\n",
       "</table>\n",
       "</div>"
      ],
      "text/plain": [
       "                      Feature  Importance\n",
       "7                rolling_temp       0.263\n",
       "8             descaling_count       0.124\n",
       "5               fur_soak_temp       0.109\n",
       "13                     hsb_적용       0.107\n",
       "1                    pt_width       0.062\n",
       "2                   pt_length       0.055\n",
       "3               fur_heat_temp       0.055\n",
       "0                    pt_thick       0.052\n",
       "11               steel_kind_T       0.034\n",
       "12                    hsb_미적용       0.027\n",
       "4               fur_heat_time       0.023\n",
       "6               fur_soak_time       0.020\n",
       "10               steel_kind_C       0.019\n",
       "9            fur_preheat_time       0.015\n",
       "15  rolling_method_TMCP(온도제어)       0.011\n",
       "14    rolling_method_CR(제어압연)       0.006\n",
       "21              furnace_3호기2열       0.005\n",
       "17              furnace_1호기2열       0.003\n",
       "19              furnace_2호기2열       0.003\n",
       "20              furnace_3호기1열       0.003\n",
       "18              furnace_2호기1열       0.003\n",
       "16              furnace_1호기1열       0.001"
      ]
     },
     "execution_count": 32,
     "metadata": {},
     "output_type": "execute_result"
    }
   ],
   "source": [
    "# 설명변수 중요도\n",
    "# tree.feature_importances_로 설명변수 중요도 확인 및 테이블로 저장\n",
    "df_importance = pd.DataFrame()\n",
    "df_importance[\"Feature\"] = v_feature_name\n",
    "df_importance[\"Importance\"] = rand_rf.feature_importances_\n",
    "\n",
    "# df_feature_importance의 테이블을 중요도별로 정렬\n",
    "df_importance.sort_values(\"Importance\", ascending=False, inplace = True)\n",
    "df_importance.round(3)"
   ]
  },
  {
   "cell_type": "code",
   "execution_count": 33,
   "metadata": {},
   "outputs": [
    {
     "data": {
      "text/plain": [
       "Text(0, 0.5, '설명변수')"
      ]
     },
     "execution_count": 33,
     "metadata": {},
     "output_type": "execute_result"
    },
    {
     "data": {
      "image/png": "[encoded data removed]",
      "text/plain": [
       "<Figure size 640x480 with 1 Axes>"
      ]
     },
     "metadata": {},
     "output_type": "display_data"
    }
   ],
   "source": [
    "# 설명변수 중요도 그래프\n",
    "# sort_values : 중요도가 높은 변수를 상위에 그림. \n",
    "df_importance.sort_values(\"Importance\", ascending=True, inplace = True)\n",
    "coordinates = range(len(df_importance))\n",
    "\n",
    "df_top = df_importance.tail(15)\n",
    "coordinates = range(len(df_top))\n",
    "plt.barh(y = coordinates, width = df_top[\"Importance\"])\n",
    "plt.yticks(coordinates, df_top[\"Feature\"])\n",
    "plt.xlabel(\"설명변수 중요도\")\n",
    "plt.ylabel(\"설명변수\")"
   ]
  },
  {
   "cell_type": "markdown",
   "metadata": {},
   "source": [
    "### XGBoost"
   ]
  },
  {
   "cell_type": "code",
   "execution_count": 10,
   "metadata": {},
   "outputs": [
    {
     "name": "stdout",
     "output_type": "stream",
     "text": [
      "Best estimator model: \n",
      "XGBClassifier(base_score=0.5, booster='gbtree', callbacks=None,\n",
      "              colsample_bylevel=1, colsample_bynode=1, colsample_bytree=0.7,\n",
      "              early_stopping_rounds=None, enable_categorical=False,\n",
      "              eval_metric='logloss', gamma=0, gpu_id=-1,\n",
      "              grow_policy='depthwise', importance_type=None,\n",
      "              interaction_constraints='', learning_rate=0.3, max_bin=256,\n",
      "              max_cat_to_onehot=4, max_delta_step=0, max_depth=5, max_leaves=0,\n",
      "              min_child_weight=1, missing=nan, monotone_constraints='()',\n",
      "              n_estimators=500, n_jobs=0, num_parallel_tree=1, predictor='auto',\n",
      "              random_state=0, reg_alpha=0, reg_lambda=1, ...)\n",
      "\n",
      "Best parameter: \n",
      "{'subsample': 1.0, 'objective': 'binary:logistic', 'n_estimators': 500, 'min_child_weight': 1, 'max_depth': 5, 'learning_rate': 0.3, 'gamma': 0, 'colsample_bytree': 0.7}\n",
      "\n",
      "Best score: \n",
      "0.989\n"
     ]
    }
   ],
   "source": [
    "# XGBClassifier 모델 설정\n",
    "estimator = XGBClassifier(use_label_encoder=False, eval_metric=\"logloss\")\n",
    "\n",
    "# XGBClassifier에 맞는 하이퍼파라미터 범위 설정\n",
    "param_grid = {\n",
    "    \"objective\": [\"binary:logistic\"],   # 분류 문제 유형에 맞는 목표 함수\n",
    "    \"max_depth\": [int(x) for x in range(1, 31)],                           # 최대 깊이\n",
    "    \"learning_rate\": [lr * 0.02 for lr in range(1, 21)],                   # 학습률\n",
    "    \"n_estimators\": [int(x) for x in range(50, 501, 50)],                  # 트리 개수\n",
    "    \"min_child_weight\": [int(x) for x in range(1, 11)],                    # 자식 노드의 가중치 합 최소값\n",
    "    \"subsample\": [0.5, 0.7, 0.8, 1.0],                                     # 각 트리마다 사용할 샘플 비율\n",
    "    \"colsample_bytree\": [0.5, 0.7, 0.8, 1.0],                              # 각 트리마다 사용할 특성 비율\n",
    "    \"gamma\": [0, 0.1, 0.2, 0.3, 0.4],                                      # 리프 노드에서 추가 분할을 위한 최소 손실 감소 값\n",
    "}\n",
    "\n",
    "# RandomizedSearchCV 설정 및 학습\n",
    "rand_xgb = RandomizedSearchCV(\n",
    "    estimator=estimator,\n",
    "    param_distributions=param_grid,\n",
    "    n_iter=500,\n",
    "    scoring=\"accuracy\",    # 분류 문제에 적합한 평가지표\n",
    "    n_jobs=-1,\n",
    "    random_state=1234\n",
    ")\n",
    "\n",
    "# 오버샘플링된 학습 데이터 사용\n",
    "rand_xgb.fit(x_resampled, y_resampled)\n",
    "\n",
    "# 최적의 결과 출력\n",
    "print(\"Best estimator model: \\n{}\".format(rand_xgb.best_estimator_))\n",
    "print(\"\\nBest parameter: \\n{}\".format(rand_xgb.best_params_))\n",
    "print(\"\\nBest score: \\n{}\".format(rand_xgb.best_score_.round(3)))\n"
   ]
  },
  {
   "cell_type": "code",
   "execution_count": 9,
   "metadata": {},
   "outputs": [
    {
     "name": "stdout",
     "output_type": "stream",
     "text": [
      "\n",
      " 모델 평가 : Test \n",
      "\n",
      "오차행렬:\n",
      " [[209   2]\n",
      " [  3  85]] \n",
      "\n",
      "정확도: 0.9833\n",
      "정밀도: 0.9770\n",
      "재현율: 0.9659\n",
      "F1    : 0.9714\n",
      "AUC   : 0.9782\n",
      "\n",
      "               precision    recall  f1-score   support\n",
      "\n",
      "           0       0.99      0.99      0.99       211\n",
      "           1       0.98      0.97      0.97        88\n",
      "\n",
      "    accuracy                           0.98       299\n",
      "   macro avg       0.98      0.98      0.98       299\n",
      "weighted avg       0.98      0.98      0.98       299\n",
      "\n",
      "Test F1 Score: 0.9714285714285714\n"
     ]
    }
   ],
   "source": [
    "# 모델 생성\n",
    "rd_xgboost= XGBClassifier(\n",
    "    subsample=1.0,\n",
    "    objective='binary:logistic',\n",
    "    n_estimators=500,\n",
    "    min_child_weight=1,\n",
    "    max_depth=5,\n",
    "    learning_rate=0.3,\n",
    "    gamma=0, colsample_bytree=0.7, random_state=1234)\n",
    "\n",
    "# 모델 적합\n",
    "rd_xgboost.fit(x_resampled, y_resampled)\n",
    "\n",
    "'''\n",
    "# 예측 및 모델 평가:Train  \n",
    "xgb_pred_train = rd_xgboost.predict(x_resampled)\n",
    "\n",
    "print('\\n 모델 평가 : Train \\n')\n",
    "eval_class_model(y_resampled, xgb_pred_train)\n",
    "print('\\n',classification_report(y_resampled, xgb_pred_train))'''\n",
    "\n",
    "\n",
    "# 예측 및 모델 평가:Test  \n",
    "xgb_pred_test = rd_xgboost.predict(df_test_x)\n",
    "\n",
    "print('\\n 모델 평가 : Test \\n')\n",
    "eval_class_model(df_test_y, xgb_pred_test)\n",
    "print('\\n',classification_report(df_test_y, xgb_pred_test))\n",
    "print(\"Test F1 Score:\", f1_score(df_test_y, xgb_pred_test, average=\"binary\"))"
   ]
  },
  {
   "cell_type": "code",
   "execution_count": 11,
   "metadata": {},
   "outputs": [
    {
     "name": "stdout",
     "output_type": "stream",
     "text": [
      "{'pt_thick': 114.0, 'pt_width': 123.0, 'pt_length': 162.0, 'fur_heat_temp': 132.0, 'fur_heat_time': 148.0, 'fur_soak_temp': 157.0, 'fur_soak_time': 99.0, 'rolling_temp': 227.0, 'descaling_count': 267.0, 'fur_preheat_time': 109.0, 'steel_kind_C': 2.0, 'steel_kind_T': 32.0, 'hsb_미적용': 3.0, 'hsb_적용': 19.0, 'rolling_method_TMCP(온도제어)': 2.0, 'furnace_1호기1열': 1.0, 'furnace_1호기2열': 7.0, 'furnace_2호기1열': 1.0, 'furnace_2호기2열': 1.0, 'furnace_3호기1열': 9.0, 'furnace_3호기2열': 7.0}\n"
     ]
    },
    {
     "data": {
      "text/plain": [
       "<Axes: title={'center': 'Feature importance'}, xlabel='F score', ylabel='Features'>"
      ]
     },
     "execution_count": 11,
     "metadata": {},
     "output_type": "execute_result"
    },
    {
     "data": {
      "image/png": "[encoded data removed]",
      "text/plain": [
       "<Figure size 1000x800 with 1 Axes>"
      ]
     },
     "metadata": {},
     "output_type": "display_data"
    }
   ],
   "source": [
    "# 변수 중요도 확인 \n",
    "from xgboost import plot_importance  # F1 score 기준으로 변수 중요도 표시(변경 가능)\n",
    "print(rd_xgboost.get_booster().get_fscore())\n",
    "\n",
    "fig, ax = plt.subplots(figsize=(10, 8))\n",
    "plot_importance(rd_xgboost, ax=ax)"
   ]
  }
 ],
 "metadata": {
  "kernelspec": {
   "display_name": "AI",
   "language": "python",
   "name": "python3"
  },
  "language_info": {
   "codemirror_mode": {
    "name": "ipython",
    "version": 3
   },
   "file_extension": ".py",
   "mimetype": "text/x-python",
   "name": "python",
   "nbconvert_exporter": "python",
   "pygments_lexer": "ipython3",
   "version": "3.11.8"
  }
 },
 "nbformat": 4,
 "nbformat_minor": 2
}
