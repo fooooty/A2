{
 "cells": [
  {
   "cell_type": "code",
   "execution_count": 24,
   "id": "135f18a6",
   "metadata": {},
   "outputs": [
    {
     "data": {
      "text/html": [
       "<div>\n",
       "<style scoped>\n",
       "    .dataframe tbody tr th:only-of-type {\n",
       "        vertical-align: middle;\n",
       "    }\n",
       "\n",
       "    .dataframe tbody tr th {\n",
       "        vertical-align: top;\n",
       "    }\n",
       "\n",
       "    .dataframe thead th {\n",
       "        text-align: right;\n",
       "    }\n",
       "</style>\n",
       "<table border=\"1\" class=\"dataframe\">\n",
       "  <thead>\n",
       "    <tr style=\"text-align: right;\">\n",
       "      <th></th>\n",
       "      <th>scale</th>\n",
       "      <th>steel_kind</th>\n",
       "      <th>pt_thick</th>\n",
       "      <th>pt_width</th>\n",
       "      <th>pt_length</th>\n",
       "      <th>hsb</th>\n",
       "      <th>fur_heat_temp</th>\n",
       "      <th>fur_heat_time</th>\n",
       "      <th>fur_soak_temp</th>\n",
       "      <th>fur_soak_time</th>\n",
       "      <th>rolling_method</th>\n",
       "      <th>rolling_temp</th>\n",
       "      <th>descaling_count</th>\n",
       "      <th>fur_preheat_time</th>\n",
       "      <th>furnace</th>\n",
       "    </tr>\n",
       "  </thead>\n",
       "  <tbody>\n",
       "    <tr>\n",
       "      <th>0</th>\n",
       "      <td>0</td>\n",
       "      <td>T</td>\n",
       "      <td>32</td>\n",
       "      <td>3700</td>\n",
       "      <td>15100</td>\n",
       "      <td>적용</td>\n",
       "      <td>1144</td>\n",
       "      <td>116</td>\n",
       "      <td>1133</td>\n",
       "      <td>59</td>\n",
       "      <td>TMCP(온도제어)</td>\n",
       "      <td>934</td>\n",
       "      <td>8</td>\n",
       "      <td>84</td>\n",
       "      <td>1호기1열</td>\n",
       "    </tr>\n",
       "    <tr>\n",
       "      <th>1</th>\n",
       "      <td>0</td>\n",
       "      <td>T</td>\n",
       "      <td>32</td>\n",
       "      <td>3700</td>\n",
       "      <td>15100</td>\n",
       "      <td>적용</td>\n",
       "      <td>1144</td>\n",
       "      <td>122</td>\n",
       "      <td>1135</td>\n",
       "      <td>53</td>\n",
       "      <td>TMCP(온도제어)</td>\n",
       "      <td>937</td>\n",
       "      <td>8</td>\n",
       "      <td>63</td>\n",
       "      <td>1호기2열</td>\n",
       "    </tr>\n",
       "    <tr>\n",
       "      <th>2</th>\n",
       "      <td>0</td>\n",
       "      <td>T</td>\n",
       "      <td>33</td>\n",
       "      <td>3600</td>\n",
       "      <td>19200</td>\n",
       "      <td>적용</td>\n",
       "      <td>1129</td>\n",
       "      <td>116</td>\n",
       "      <td>1121</td>\n",
       "      <td>55</td>\n",
       "      <td>TMCP(온도제어)</td>\n",
       "      <td>889</td>\n",
       "      <td>8</td>\n",
       "      <td>87</td>\n",
       "      <td>2호기1열</td>\n",
       "    </tr>\n",
       "    <tr>\n",
       "      <th>3</th>\n",
       "      <td>0</td>\n",
       "      <td>T</td>\n",
       "      <td>33</td>\n",
       "      <td>3600</td>\n",
       "      <td>19200</td>\n",
       "      <td>적용</td>\n",
       "      <td>1152</td>\n",
       "      <td>125</td>\n",
       "      <td>1127</td>\n",
       "      <td>68</td>\n",
       "      <td>TMCP(온도제어)</td>\n",
       "      <td>885</td>\n",
       "      <td>8</td>\n",
       "      <td>73</td>\n",
       "      <td>2호기2열</td>\n",
       "    </tr>\n",
       "    <tr>\n",
       "      <th>4</th>\n",
       "      <td>0</td>\n",
       "      <td>T</td>\n",
       "      <td>38</td>\n",
       "      <td>3100</td>\n",
       "      <td>13300</td>\n",
       "      <td>적용</td>\n",
       "      <td>1140</td>\n",
       "      <td>134</td>\n",
       "      <td>1128</td>\n",
       "      <td>48</td>\n",
       "      <td>TMCP(온도제어)</td>\n",
       "      <td>873</td>\n",
       "      <td>8</td>\n",
       "      <td>64</td>\n",
       "      <td>3호기1열</td>\n",
       "    </tr>\n",
       "  </tbody>\n",
       "</table>\n",
       "</div>"
      ],
      "text/plain": [
       "   scale steel_kind  pt_thick  pt_width  pt_length hsb  fur_heat_temp  \\\n",
       "0      0          T        32      3700      15100  적용           1144   \n",
       "1      0          T        32      3700      15100  적용           1144   \n",
       "2      0          T        33      3600      19200  적용           1129   \n",
       "3      0          T        33      3600      19200  적용           1152   \n",
       "4      0          T        38      3100      13300  적용           1140   \n",
       "\n",
       "   fur_heat_time  fur_soak_temp  fur_soak_time rolling_method  rolling_temp  \\\n",
       "0            116           1133             59     TMCP(온도제어)           934   \n",
       "1            122           1135             53     TMCP(온도제어)           937   \n",
       "2            116           1121             55     TMCP(온도제어)           889   \n",
       "3            125           1127             68     TMCP(온도제어)           885   \n",
       "4            134           1128             48     TMCP(온도제어)           873   \n",
       "\n",
       "   descaling_count  fur_preheat_time furnace  \n",
       "0                8                84   1호기1열  \n",
       "1                8                63   1호기2열  \n",
       "2                8                87   2호기1열  \n",
       "3                8                73   2호기2열  \n",
       "4                8                64   3호기1열  "
      ]
     },
     "execution_count": 24,
     "metadata": {},
     "output_type": "execute_result"
    }
   ],
   "source": [
    "# import pandas as pd\n",
    "import numpy as np\n",
    "\n",
    "import matplotlib\n",
    "import matplotlib.pyplot as plt\n",
    "import seaborn as sns\n",
    "\n",
    "import numpy as np\n",
    "from scipy.stats import chi2_contingency\n",
    "%matplotlib inline\n",
    "\n",
    "import warnings\n",
    "warnings.filterwarnings('ignore')\n",
    "\n",
    "df = pd.read_csv(\"/home/piai/preprocessed_scale.csv\")\n",
    "df.head()"
   ]
  },
  {
   "cell_type": "markdown",
   "id": "767d3138",
   "metadata": {},
   "source": [
    "카이제곱 검정"
   ]
  },
  {
   "cell_type": "markdown",
   "id": "c790d04e",
   "metadata": {},
   "source": [
    "scale과 steel_kind 카이제곱 검정 "
   ]
  },
  {
   "cell_type": "code",
   "execution_count": 27,
   "id": "7f05d365",
   "metadata": {},
   "outputs": [
    {
     "data": {
      "text/plain": [
       "0      0\n",
       "1      0\n",
       "2      0\n",
       "3      0\n",
       "4      0\n",
       "      ..\n",
       "989    0\n",
       "990    0\n",
       "991    0\n",
       "992    0\n",
       "993    0\n",
       "Name: scale, Length: 994, dtype: int64"
      ]
     },
     "execution_count": 27,
     "metadata": {},
     "output_type": "execute_result"
    }
   ],
   "source": [
    "df_scale = df['scale']\n",
    "df_scale"
   ]
  },
  {
   "cell_type": "code",
   "execution_count": 11,
   "id": "ee86d764",
   "metadata": {},
   "outputs": [
    {
     "data": {
      "text/plain": [
       "0      T\n",
       "1      T\n",
       "2      T\n",
       "3      T\n",
       "4      T\n",
       "      ..\n",
       "995    C\n",
       "996    C\n",
       "997    C\n",
       "998    C\n",
       "999    C\n",
       "Name: steel_kind, Length: 1000, dtype: object"
      ]
     },
     "execution_count": 11,
     "metadata": {},
     "output_type": "execute_result"
    }
   ],
   "source": [
    "df_steel_kind = df['steel_kind']\n",
    "df_steel_kind"
   ]
  },
  {
   "cell_type": "code",
   "execution_count": 34,
   "id": "277fdde0",
   "metadata": {},
   "outputs": [
    {
     "name": "stdout",
     "output_type": "stream",
     "text": [
      "Chi-squared Statistic: 78.89479838930058\n",
      "p-value: 6.550700807797746e-19\n",
      "Degrees of Freedom: 1\n",
      "Expected Frequencies:\n",
      " [[515.4084507 168.5915493]\n",
      " [233.5915493  76.4084507]]\n"
     ]
    }
   ],
   "source": [
    "contingency_table = pd.crosstab(df_scale, df_steel_kind)\n",
    "\n",
    "chi2, p, dof, expected = chi2_contingency(contingency_table)\n",
    "\n",
    "# 결과 출력\n",
    "print(\"Chi-squared Statistic:\", chi2)\n",
    "print(\"p-value:\", p)\n",
    "print(\"Degrees of Freedom:\", dof)\n",
    "print(\"Expected Frequencies:\\n\", expected)"
   ]
  },
  {
   "cell_type": "markdown",
   "id": "7208ebb0",
   "metadata": {},
   "source": [
    "p-value가 6.55×10−19로, 일반적인 유의 수준(예: 0.05)로 0.05보다 훨씬 작음. 따라서,  df_scale과 df_steel_kind 변수 간에 통계적으로 \n",
    "유의미한 관계가 있음을 의미"
   ]
  },
  {
   "cell_type": "markdown",
   "id": "4f57aa1e",
   "metadata": {},
   "source": [
    "scale과 steel_hsb 카이제곱 검정 "
   ]
  },
  {
   "cell_type": "code",
   "execution_count": 40,
   "id": "a94e4a5b",
   "metadata": {},
   "outputs": [
    {
     "data": {
      "text/plain": [
       "0      적용\n",
       "1      적용\n",
       "2      적용\n",
       "3      적용\n",
       "4      적용\n",
       "       ..\n",
       "989    적용\n",
       "990    적용\n",
       "991    적용\n",
       "992    적용\n",
       "993    적용\n",
       "Name: hsb, Length: 994, dtype: object"
      ]
     },
     "execution_count": 40,
     "metadata": {},
     "output_type": "execute_result"
    }
   ],
   "source": [
    "df_steel_hsb = df['hsb']\n",
    "df_steel_hsb"
   ]
  },
  {
   "cell_type": "code",
   "execution_count": 41,
   "id": "f2960706",
   "metadata": {
    "scrolled": true
   },
   "outputs": [
    {
     "name": "stdout",
     "output_type": "stream",
     "text": [
      "적용     947\n",
      "미적용     47\n",
      "Name: hsb, dtype: int64\n"
     ]
    }
   ],
   "source": [
    "value_counts = df['hsb'].value_counts()\n",
    "print(value_counts)"
   ]
  },
  {
   "cell_type": "code",
   "execution_count": 42,
   "id": "f76fd6b6",
   "metadata": {
    "scrolled": true
   },
   "outputs": [
    {
     "name": "stdout",
     "output_type": "stream",
     "text": [
      "Chi-squared Statistic: 105.51048606504317\n",
      "p-value: 9.439705302426995e-25\n",
      "Degrees of Freedom: 1\n",
      "Expected Frequencies:\n",
      " [[ 32.34205231 651.65794769]\n",
      " [ 14.65794769 295.34205231]]\n"
     ]
    }
   ],
   "source": [
    "contingency_table = pd.crosstab(df_scale, df_steel_hsb)\n",
    "\n",
    "chi2, p, dof, expected = chi2_contingency(contingency_table)\n",
    "\n",
    "# 결과 출력\n",
    "print(\"Chi-squared Statistic:\", chi2)\n",
    "print(\"p-value:\", p)\n",
    "print(\"Degrees of Freedom:\", dof)\n",
    "print(\"Expected Frequencies:\\n\", expected)"
   ]
  },
  {
   "cell_type": "markdown",
   "id": "a9d66120",
   "metadata": {},
   "source": [
    "p-value가 9.44e-25로, 유의 수준(일반적으로 0.05)보다 훨씬 작으므로, df_scale과 df_steel_hsb 변수 간에 통계적으로 유의미한 관계가 있다"
   ]
  },
  {
   "cell_type": "markdown",
   "id": "e8b7d2d6",
   "metadata": {},
   "source": [
    "scale과 furnace 카이제곱 검정 "
   ]
  },
  {
   "cell_type": "code",
   "execution_count": 44,
   "id": "92034fdb",
   "metadata": {},
   "outputs": [
    {
     "name": "stdout",
     "output_type": "stream",
     "text": [
      "3호기1열    176\n",
      "1호기2열    174\n",
      "2호기1열    171\n",
      "3호기2열    162\n",
      "1호기1열    158\n",
      "2호기2열    153\n",
      "Name: furnace, dtype: int64\n"
     ]
    }
   ],
   "source": [
    "value_counts = df['furnace'].value_counts()\n",
    "print(value_counts)"
   ]
  },
  {
   "cell_type": "code",
   "execution_count": 46,
   "id": "332db341",
   "metadata": {},
   "outputs": [
    {
     "data": {
      "text/plain": [
       "0      1호기1열\n",
       "1      1호기2열\n",
       "2      2호기1열\n",
       "3      2호기2열\n",
       "4      3호기1열\n",
       "       ...  \n",
       "989    1호기2열\n",
       "990    1호기2열\n",
       "991    2호기2열\n",
       "992    2호기2열\n",
       "993    3호기1열\n",
       "Name: furnace, Length: 994, dtype: object"
      ]
     },
     "execution_count": 46,
     "metadata": {},
     "output_type": "execute_result"
    }
   ],
   "source": [
    "df_steel_fur_no = df['furnace']\n",
    "df_steel_fur_no"
   ]
  },
  {
   "cell_type": "code",
   "execution_count": 47,
   "id": "af5923f5",
   "metadata": {
    "scrolled": true
   },
   "outputs": [
    {
     "name": "stdout",
     "output_type": "stream",
     "text": [
      "Chi-squared Statistic: 7.67460098873368\n",
      "p-value: 0.1751043391036752\n",
      "Degrees of Freedom: 5\n",
      "Expected Frequencies:\n",
      " [[108.72434608 119.73440644 117.67002012 105.28370221 121.11066398\n",
      "  111.47686117]\n",
      " [ 49.27565392  54.26559356  53.32997988  47.71629779  54.88933602\n",
      "   50.52313883]]\n"
     ]
    }
   ],
   "source": [
    "contingency_table = pd.crosstab(df_scale, df_steel_fur_no)\n",
    "\n",
    "chi2, p, dof, expected = chi2_contingency(contingency_table)\n",
    "\n",
    "# 결과 출력\n",
    "print(\"Chi-squared Statistic:\", chi2)\n",
    "print(\"p-value:\", p)\n",
    "print(\"Degrees of Freedom:\", dof)\n",
    "print(\"Expected Frequencies:\\n\", expected)"
   ]
  },
  {
   "cell_type": "markdown",
   "id": "bbb5c80e",
   "metadata": {},
   "source": [
    "p-value가 0.175로, 일반적인 유의 수준(예: 0.05)보다 크므로, df_scale과 df_steel_hsb 변수 간에 통계적으로 유의미한 관계가 없다"
   ]
  },
  {
   "cell_type": "markdown",
   "id": "ec70250a",
   "metadata": {},
   "source": [
    "scale과 rolling_method 카이제곱 검정 "
   ]
  },
  {
   "cell_type": "code",
   "execution_count": 48,
   "id": "9d555cce",
   "metadata": {},
   "outputs": [
    {
     "name": "stdout",
     "output_type": "stream",
     "text": [
      "CR(제어압연)      836\n",
      "TMCP(온도제어)    158\n",
      "Name: rolling_method, dtype: int64\n"
     ]
    }
   ],
   "source": [
    "value_counts = df['rolling_method'].value_counts()\n",
    "print(value_counts)"
   ]
  },
  {
   "cell_type": "code",
   "execution_count": 49,
   "id": "ca28fdcc",
   "metadata": {},
   "outputs": [
    {
     "data": {
      "text/plain": [
       "0      TMCP(온도제어)\n",
       "1      TMCP(온도제어)\n",
       "2      TMCP(온도제어)\n",
       "3      TMCP(온도제어)\n",
       "4      TMCP(온도제어)\n",
       "          ...    \n",
       "989      CR(제어압연)\n",
       "990      CR(제어압연)\n",
       "991      CR(제어압연)\n",
       "992      CR(제어압연)\n",
       "993      CR(제어압연)\n",
       "Name: rolling_method, Length: 994, dtype: object"
      ]
     },
     "execution_count": 49,
     "metadata": {},
     "output_type": "execute_result"
    }
   ],
   "source": [
    "df_steel_rolling_method = df['rolling_method']\n",
    "df_steel_rolling_method "
   ]
  },
  {
   "cell_type": "code",
   "execution_count": 50,
   "id": "b694eced",
   "metadata": {},
   "outputs": [
    {
     "name": "stdout",
     "output_type": "stream",
     "text": [
      "Chi-squared Statistic: 44.88003167017692\n",
      "p-value: 2.0948325380804966e-11\n",
      "Degrees of Freedom: 1\n",
      "Expected Frequencies:\n",
      " [[575.27565392 108.72434608]\n",
      " [260.72434608  49.27565392]]\n"
     ]
    }
   ],
   "source": [
    "contingency_table = pd.crosstab(df_scale, df_steel_rolling_method)\n",
    "\n",
    "chi2, p, dof, expected = chi2_contingency(contingency_table)\n",
    "\n",
    "# 결과 출력\n",
    "print(\"Chi-squared Statistic:\", chi2)\n",
    "print(\"p-value:\", p)\n",
    "print(\"Degrees of Freedom:\", dof)\n",
    "print(\"Expected Frequencies:\\n\", expected)"
   ]
  },
  {
   "cell_type": "markdown",
   "id": "2c77a419",
   "metadata": {},
   "source": [
    "p-value가 2.094e-11로, 일반적인 유의 수준(예: 0.05)보다 훨씬 작으므로, df_scale과 df_steel_hsb 변수 간에 통계적으로 유의미한 관계가 있다"
   ]
  }
 ],
 "metadata": {
  "kernelspec": {
   "display_name": "Python 3 (ipykernel)",
   "language": "python",
   "name": "python3"
  },
  "language_info": {
   "codemirror_mode": {
    "name": "ipython",
    "version": 3
   },
   "file_extension": ".py",
   "mimetype": "text/x-python",
   "name": "python",
   "nbconvert_exporter": "python",
   "pygments_lexer": "ipython3",
   "version": "3.10.9"
  }
 },
 "nbformat": 4,
 "nbformat_minor": 5
}
