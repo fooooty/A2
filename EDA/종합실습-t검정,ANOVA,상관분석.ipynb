{
 "cells": [
  {
   "cell_type": "code",
   "execution_count": 9,
   "id": "176f3fdc",
   "metadata": {},
   "outputs": [],
   "source": [
    "import pandas as pd\n",
    "import numpy as np\n",
    "\n",
    "import matplotlib\n",
    "import matplotlib.pyplot as plt\n",
    "import seaborn as sns\n",
    "\n",
    "import scipy.stats as stats\n",
    "from statsmodels.formula.api import ols\n",
    "from scipy.stats import ttest_ind\n",
    "from scipy.stats import ttest_1samp\n",
    "\n",
    "%matplotlib inline"
   ]
  },
  {
   "cell_type": "code",
   "execution_count": 2,
   "id": "b55063fd",
   "metadata": {},
   "outputs": [],
   "source": [
    "plt.rc(\"font\", family=\"NanumGothic Eco\")\n",
    "matplotlib.rc(\"axes\", unicode_minus = False)\n",
    "\n",
    "import warnings\n",
    "warnings.filterwarnings('ignore')"
   ]
  },
  {
   "cell_type": "code",
   "execution_count": 4,
   "id": "05592f76",
   "metadata": {},
   "outputs": [
    {
     "data": {
      "text/html": [
       "<div>\n",
       "<style scoped>\n",
       "    .dataframe tbody tr th:only-of-type {\n",
       "        vertical-align: middle;\n",
       "    }\n",
       "\n",
       "    .dataframe tbody tr th {\n",
       "        vertical-align: top;\n",
       "    }\n",
       "\n",
       "    .dataframe thead th {\n",
       "        text-align: right;\n",
       "    }\n",
       "</style>\n",
       "<table border=\"1\" class=\"dataframe\">\n",
       "  <thead>\n",
       "    <tr style=\"text-align: right;\">\n",
       "      <th></th>\n",
       "      <th>Name</th>\n",
       "      <th>Location</th>\n",
       "      <th>Price</th>\n",
       "      <th>Year</th>\n",
       "      <th>Kilometers_Driven</th>\n",
       "      <th>Fuel_Type</th>\n",
       "      <th>Transmission</th>\n",
       "      <th>Owner_Type</th>\n",
       "      <th>Mileage</th>\n",
       "      <th>Engine</th>\n",
       "      <th>Power</th>\n",
       "      <th>Seats</th>\n",
       "      <th>Brand</th>\n",
       "      <th>Model</th>\n",
       "      <th>Kilometer_Range_Grade</th>\n",
       "    </tr>\n",
       "  </thead>\n",
       "  <tbody>\n",
       "    <tr>\n",
       "      <th>0</th>\n",
       "      <td>AMBASSADOR CLASSIC NOVA DIESEL</td>\n",
       "      <td>Chennai</td>\n",
       "      <td>2069.50</td>\n",
       "      <td>2003</td>\n",
       "      <td>80000</td>\n",
       "      <td>Diesel</td>\n",
       "      <td>Manual</td>\n",
       "      <td>Third</td>\n",
       "      <td>12.80</td>\n",
       "      <td>1489.0</td>\n",
       "      <td>35.5</td>\n",
       "      <td>5.0</td>\n",
       "      <td>AMBASSADOR</td>\n",
       "      <td>CLASSIC NOVA DIESEL</td>\n",
       "      <td>4</td>\n",
       "    </tr>\n",
       "    <tr>\n",
       "      <th>1</th>\n",
       "      <td>AUDI A3 35 TDI ATTRACTION</td>\n",
       "      <td>Ahmedabad</td>\n",
       "      <td>26918.78</td>\n",
       "      <td>2014</td>\n",
       "      <td>84004</td>\n",
       "      <td>Diesel</td>\n",
       "      <td>Automatic</td>\n",
       "      <td>First</td>\n",
       "      <td>20.38</td>\n",
       "      <td>1968.0</td>\n",
       "      <td>143.0</td>\n",
       "      <td>5.0</td>\n",
       "      <td>AUDI</td>\n",
       "      <td>A3 35 TDI ATTRACTION</td>\n",
       "      <td>5</td>\n",
       "    </tr>\n",
       "    <tr>\n",
       "      <th>2</th>\n",
       "      <td>AUDI A3 35 TDI ATTRACTION</td>\n",
       "      <td>Chennai</td>\n",
       "      <td>25293.84</td>\n",
       "      <td>2014</td>\n",
       "      <td>79271</td>\n",
       "      <td>Diesel</td>\n",
       "      <td>Automatic</td>\n",
       "      <td>First</td>\n",
       "      <td>20.38</td>\n",
       "      <td>1968.0</td>\n",
       "      <td>143.0</td>\n",
       "      <td>5.0</td>\n",
       "      <td>AUDI</td>\n",
       "      <td>A3 35 TDI ATTRACTION</td>\n",
       "      <td>4</td>\n",
       "    </tr>\n",
       "    <tr>\n",
       "      <th>3</th>\n",
       "      <td>AUDI A3 35 TDI PREMIUM</td>\n",
       "      <td>Mumbai</td>\n",
       "      <td>29509.48</td>\n",
       "      <td>2016</td>\n",
       "      <td>20003</td>\n",
       "      <td>Diesel</td>\n",
       "      <td>Automatic</td>\n",
       "      <td>First</td>\n",
       "      <td>20.38</td>\n",
       "      <td>1968.0</td>\n",
       "      <td>143.0</td>\n",
       "      <td>5.0</td>\n",
       "      <td>AUDI</td>\n",
       "      <td>A3 35 TDI PREMIUM</td>\n",
       "      <td>2</td>\n",
       "    </tr>\n",
       "    <tr>\n",
       "      <th>4</th>\n",
       "      <td>AUDI A3 35 TDI PREMIUM PLUS</td>\n",
       "      <td>Mumbai</td>\n",
       "      <td>28972.94</td>\n",
       "      <td>2016</td>\n",
       "      <td>39000</td>\n",
       "      <td>Diesel</td>\n",
       "      <td>Automatic</td>\n",
       "      <td>First</td>\n",
       "      <td>20.38</td>\n",
       "      <td>1968.0</td>\n",
       "      <td>143.0</td>\n",
       "      <td>5.0</td>\n",
       "      <td>AUDI</td>\n",
       "      <td>A3 35 TDI PREMIUM PLUS</td>\n",
       "      <td>2</td>\n",
       "    </tr>\n",
       "  </tbody>\n",
       "</table>\n",
       "</div>"
      ],
      "text/plain": [
       "                             Name   Location     Price  Year  \\\n",
       "0  AMBASSADOR CLASSIC NOVA DIESEL    Chennai   2069.50  2003   \n",
       "1       AUDI A3 35 TDI ATTRACTION  Ahmedabad  26918.78  2014   \n",
       "2       AUDI A3 35 TDI ATTRACTION    Chennai  25293.84  2014   \n",
       "3          AUDI A3 35 TDI PREMIUM     Mumbai  29509.48  2016   \n",
       "4     AUDI A3 35 TDI PREMIUM PLUS     Mumbai  28972.94  2016   \n",
       "\n",
       "   Kilometers_Driven Fuel_Type Transmission Owner_Type  Mileage  Engine  \\\n",
       "0              80000    Diesel       Manual      Third    12.80  1489.0   \n",
       "1              84004    Diesel    Automatic      First    20.38  1968.0   \n",
       "2              79271    Diesel    Automatic      First    20.38  1968.0   \n",
       "3              20003    Diesel    Automatic      First    20.38  1968.0   \n",
       "4              39000    Diesel    Automatic      First    20.38  1968.0   \n",
       "\n",
       "   Power  Seats       Brand                   Model  Kilometer_Range_Grade  \n",
       "0   35.5    5.0  AMBASSADOR     CLASSIC NOVA DIESEL                      4  \n",
       "1  143.0    5.0        AUDI    A3 35 TDI ATTRACTION                      5  \n",
       "2  143.0    5.0        AUDI    A3 35 TDI ATTRACTION                      4  \n",
       "3  143.0    5.0        AUDI       A3 35 TDI PREMIUM                      2  \n",
       "4  143.0    5.0        AUDI  A3 35 TDI PREMIUM PLUS                      2  "
      ]
     },
     "execution_count": 4,
     "metadata": {},
     "output_type": "execute_result"
    }
   ],
   "source": [
    "Car_raw = pd.read_csv(\"/home/piai/Preprocessed_Car.csv\")\n",
    "Car_raw.head()"
   ]
  },
  {
   "cell_type": "markdown",
   "id": "3b322382",
   "metadata": {},
   "source": [
    "# T-test"
   ]
  },
  {
   "cell_type": "markdown",
   "id": "c308ac51",
   "metadata": {},
   "source": [
    "### 1. Brand"
   ]
  },
  {
   "cell_type": "code",
   "execution_count": 23,
   "id": "38cbb621",
   "metadata": {},
   "outputs": [
    {
     "name": "stdout",
     "output_type": "stream",
     "text": [
      "            Brand  t-statistic        p-value\n",
      "0      AMBASSADOR          NaN            NaN\n",
      "1            AUDI    21.603549   9.655508e-62\n",
      "2         BENTLEY     0.790505   5.741495e-01\n",
      "3             BMW    18.217827   1.349716e-50\n",
      "4       CHEVROLET   -45.397453   3.764993e-89\n",
      "5          DATSUN   -19.616102   1.289909e-12\n",
      "6            FIAT   -12.024526   3.300256e-13\n",
      "7           FORCE    -0.152977   8.924564e-01\n",
      "8            FORD    -6.920403   2.239835e-11\n",
      "9           HONDA   -43.092542  1.092279e-203\n",
      "10        HYUNDAI   -41.275174  4.643426e-237\n",
      "11          ISUZU     1.460145   2.816856e-01\n",
      "12         JAGUAR    11.377018   4.237922e-15\n",
      "13           JEEP    15.191124   1.042729e-11\n",
      "14    LAMBORGHINI          NaN            NaN\n",
      "15           LAND    10.076989   3.460358e-14\n",
      "16       MAHINDRA    -7.342680   1.686192e-12\n",
      "17         MARUTI   -81.274227   0.000000e+00\n",
      "18  MERCEDES-BENZ    20.325781   7.190615e-62\n",
      "19           MINI    14.916687   2.032904e-15\n",
      "20     MITSUBISHI     3.070196   4.118630e-03\n",
      "21         NISSAN   -20.694621   4.528349e-40\n",
      "22        PORSCHE     8.152436   4.337231e-07\n",
      "23        RENAULT   -19.194447   2.585978e-44\n",
      "24          SKODA    -2.454859   1.496159e-02\n",
      "25           TATA   -34.270384   7.858923e-91\n",
      "26         TOYOTA     6.922096   1.364720e-11\n",
      "27     VOLKSWAGEN   -31.732842  7.043997e-108\n",
      "28          VOLVO     7.899078   1.716731e-08\n"
     ]
    }
   ],
   "source": [
    "# 전체 가격의 평균 계산\n",
    "overall_mean = Car_raw['Price'].mean()\n",
    "\n",
    "# 브랜드 목록\n",
    "brands = Car_raw['Brand'].unique()\n",
    "\n",
    "# t-검정 결과 저장용 데이터프레임\n",
    "t_test_results = pd.DataFrame(columns=['Brand', 't-statistic', 'p-value'])\n",
    "\n",
    "# 각 브랜드에 대해 t-검정 수행\n",
    "for brand in brands:\n",
    "    # 해당 브랜드의 가격 데이터 추출\n",
    "    price_brand = Car_raw[Car_raw['Brand'] == brand]['Price']\n",
    "    \n",
    "    # t-검정 수행: 브랜드의 가격 데이터와 전체 평균 비교\n",
    "    t, p = ttest_1samp(price_brand, overall_mean)\n",
    "    \n",
    "    # 결과 저장\n",
    "    t_test_results = t_test_results.append({\n",
    "        'Brand': brand,\n",
    "        't-statistic': t,\n",
    "        'p-value': p\n",
    "    }, ignore_index=True)\n",
    "\n",
    "# 결과 출력\n",
    "print(t_test_results)\n"
   ]
  },
  {
   "cell_type": "markdown",
   "id": "0bc0d23c",
   "metadata": {},
   "source": [
    "- 유의미한 브랜드: AUDI와 BMW, MERCEDES-BENZ는 가격이 전체 평균보다 높으며, 가격에 유의미한 영향을 미친다. 반면 CHEVROLET와 HONDA는 가격이 전체 평균보다 낮고, 가격에 유의미한 영향을 미친다. \n",
    "- 무의미한 브랜드: BENTLEY, ISUZU, FORCE는 P-value가 높아 가격이 전체 평균과 통계적으로 유의미한 차이를 보이지 않는다. "
   ]
  },
  {
   "cell_type": "markdown",
   "id": "07f9bab7",
   "metadata": {},
   "source": [
    "### 2. Location"
   ]
  },
  {
   "cell_type": "code",
   "execution_count": 5,
   "id": "f3f6d935",
   "metadata": {},
   "outputs": [
    {
     "data": {
      "text/plain": [
       "array(['Chennai', 'Ahmedabad', 'Mumbai', 'Hyderabad', 'Delhi', 'Kolkata',\n",
       "       'Bangalore', 'Kochi', 'Coimbatore', 'Pune', 'Jaipur'], dtype=object)"
      ]
     },
     "execution_count": 5,
     "metadata": {},
     "output_type": "execute_result"
    }
   ],
   "source": [
    "Car_raw['Location'].unique()"
   ]
  },
  {
   "cell_type": "code",
   "execution_count": 24,
   "id": "c7500d9d",
   "metadata": {},
   "outputs": [
    {
     "name": "stdout",
     "output_type": "stream",
     "text": [
      "      Location  t-statistic       p-value\n",
      "0      Chennai    -5.179116  3.098599e-07\n",
      "1    Ahmedabad    -1.558202  1.203743e-01\n",
      "2       Mumbai     0.002207  9.982394e-01\n",
      "3    Hyderabad     1.135346  2.565513e-01\n",
      "4        Delhi     1.038354  2.994907e-01\n",
      "5      Kolkata   -12.231934  4.775788e-31\n",
      "6    Bangalore     5.618485  3.503303e-08\n",
      "7        Kochi     3.877791  1.145069e-04\n",
      "8   Coimbatore     9.516892  2.309692e-20\n",
      "9         Pune   -10.544966  2.620544e-24\n",
      "10      Jaipur   -12.701604  4.278017e-32\n"
     ]
    }
   ],
   "source": [
    "locations = Car_raw['Location'].unique()\n",
    "\n",
    "t_test_results = pd.DataFrame(columns=['Location', 't-statistic', 'p-value'])\n",
    "\n",
    "for loc in locations:\n",
    "    price_loc = Car_raw[Car_raw['Location'] == loc]['Price']\n",
    "    t, p= ttest_1samp(price_loc, overall_mean)\n",
    "    t_test_results = t_test_results.append({\n",
    "        'Location': loc,\n",
    "        't-statistic': t,\n",
    "        'p-value': p\n",
    "    }, ignore_index=True)\n",
    "\n",
    "print(t_test_results)"
   ]
  },
  {
   "cell_type": "markdown",
   "id": "b9432976",
   "metadata": {},
   "source": [
    "- 유의미한 위치: Chennai, Kolkata, Bangalore, Kochi, Coimbatore, Pune, Jaipur는 가격과 유의미한 관계가 있으며, 특히 Chennai와 Kolkata는 가격이 평균보다 낮고 Bangalore와 Coimbatore는 가격이 평균보다 높은 것으로 나타났다.\n",
    "- 비유의미한 위치: Ahmedabad, Mumbai, Hyderabad, Delhi는 가격에 대한 유의미한 영향을 미치지 않으므로, 이들을 통해 가격 변화에 대한 인사이트를 얻기 어렵다."
   ]
  },
  {
   "cell_type": "markdown",
   "id": "a3d4aff0",
   "metadata": {},
   "source": [
    "### 3. Fuel_Type"
   ]
  },
  {
   "cell_type": "code",
   "execution_count": 12,
   "id": "8c284762",
   "metadata": {},
   "outputs": [
    {
     "data": {
      "text/plain": [
       "array(['Diesel', 'Petrol', 'CNG', 'LPG'], dtype=object)"
      ]
     },
     "execution_count": 12,
     "metadata": {},
     "output_type": "execute_result"
    }
   ],
   "source": [
    "Car_raw['Fuel_Type'].unique()"
   ]
  },
  {
   "cell_type": "code",
   "execution_count": 25,
   "id": "17ca4fec",
   "metadata": {},
   "outputs": [
    {
     "name": "stdout",
     "output_type": "stream",
     "text": [
      "  Fuel_Type  t-statistic        p-value\n",
      "0    Diesel    15.855799   7.202116e-55\n",
      "1    Petrol   -28.689828  2.324655e-161\n",
      "2       CNG   -33.382969   1.870128e-40\n",
      "3       LPG   -22.238960   1.707181e-10\n"
     ]
    }
   ],
   "source": [
    "fuel_types = Car_raw['Fuel_Type'].unique()\n",
    "\n",
    "t_test_results = pd.DataFrame(columns=['Fuel_Type', 't-statistic', 'p-value'])\n",
    "\n",
    "for fuel in fuel_types:\n",
    "    price_fuel = Car_raw[Car_raw['Fuel_Type'] == fuel]['Price']\n",
    "    t, p = ttest_1samp(price_fuel, overall_mean)\n",
    "    t_test_results = t_test_results.append({\n",
    "        'Fuel_Type': fuel,\n",
    "        't-statistic': t,\n",
    "        'p-value': p\n",
    "    }, ignore_index=True)\n",
    "\n",
    "print(t_test_results)"
   ]
  },
  {
   "cell_type": "markdown",
   "id": "17437d93",
   "metadata": {},
   "source": [
    "* Diesel은 가격이 전체 평균보다 유의미하게 높은 반면, Petrol, CNG, LPG는 가격이 평균보다 유의미하게 낮다는 결과를 보여준다."
   ]
  },
  {
   "cell_type": "markdown",
   "id": "b6aba9cd",
   "metadata": {},
   "source": [
    "### 4. Transmission"
   ]
  },
  {
   "cell_type": "code",
   "execution_count": 26,
   "id": "80f263c2",
   "metadata": {},
   "outputs": [
    {
     "data": {
      "text/plain": [
       "array(['Manual', 'Automatic'], dtype=object)"
      ]
     },
     "execution_count": 26,
     "metadata": {},
     "output_type": "execute_result"
    }
   ],
   "source": [
    "Car_raw['Transmission'].unique()"
   ]
  },
  {
   "cell_type": "code",
   "execution_count": 27,
   "id": "87630406",
   "metadata": {},
   "outputs": [
    {
     "name": "stdout",
     "output_type": "stream",
     "text": [
      "  Transmission  t-statistic       p-value\n",
      "0       Manual    -22.23896  1.707181e-10\n",
      "1    Automatic    -22.23896  1.707181e-10\n"
     ]
    }
   ],
   "source": [
    "Transmissions = Car_raw['Transmission'].unique()\n",
    "\n",
    "t_test_results = pd.DataFrame(columns=['Transmission', 't-statistic', 'p-value'])\n",
    "\n",
    "for fuel in Transmissions:\n",
    "    Transmission = Car_raw[Car_raw['Transmission'] == fuel]['Price']\n",
    "    t, p = ttest_1samp(price_fuel, overall_mean)\n",
    "    t_test_results = t_test_results.append({\n",
    "        'Transmission': fuel,\n",
    "        't-statistic': t,\n",
    "        'p-value': p\n",
    "    }, ignore_index=True)\n",
    "\n",
    "print(t_test_results)"
   ]
  },
  {
   "cell_type": "markdown",
   "id": "4cae43a8",
   "metadata": {},
   "source": [
    "* Manual과 Automatic 두 전송 방식 모두 p-값이 1.71×10−101.71×10−10으로 매우 낮다. 이는 두 전송 방식의 가격이 전체 평균 가격에 비해 유의미하게 낮다는 것을 의미한다"
   ]
  },
  {
   "cell_type": "markdown",
   "id": "f227dadf",
   "metadata": {},
   "source": [
    "### 5. Owner_Type"
   ]
  },
  {
   "cell_type": "code",
   "execution_count": 28,
   "id": "e3698a05",
   "metadata": {},
   "outputs": [
    {
     "name": "stdout",
     "output_type": "stream",
     "text": [
      "       Owner_Type  t-statistic       p-value\n",
      "0           Third    -3.856156  1.840012e-04\n",
      "1           First     2.990103  2.800464e-03\n",
      "2          Second    -6.592245  6.712011e-11\n",
      "3  Fourth & Above   -15.132901  3.598652e-07\n"
     ]
    }
   ],
   "source": [
    "owner_types = Car_raw['Owner_Type'].unique()\n",
    "\n",
    "t_test_results = pd.DataFrame(columns=['Owner_Type', 't-statistic', 'p-value'])\n",
    "\n",
    "for owner in owner_types:\n",
    "    price_owner = Car_raw[Car_raw['Owner_Type'] == owner]['Price']\n",
    "    t, p = ttest_1samp(price_owner, overall_mean)\n",
    "    t_test_results = t_test_results.append({\n",
    "        'Owner_Type': owner,\n",
    "        't-statistic': t,\n",
    "        'p-value': p\n",
    "    }, ignore_index=True)\n",
    "    \n",
    "print(t_test_results)"
   ]
  },
  {
   "cell_type": "markdown",
   "id": "0c0d6389",
   "metadata": {},
   "source": [
    "* Third, Second, Fourth & Above는 가격이 전체 평균보다 유의미하게 낮고, First는 가격이 전체 평균보다 유의미하게 높다."
   ]
  },
  {
   "cell_type": "markdown",
   "id": "ff269e4d",
   "metadata": {},
   "source": [
    "# ANOVA "
   ]
  },
  {
   "cell_type": "code",
   "execution_count": 34,
   "id": "4c3d0429",
   "metadata": {},
   "outputs": [
    {
     "name": "stdout",
     "output_type": "stream",
     "text": [
      "       Category  F-statistic        p-value\n",
      "0         Brand   358.958448   0.000000e+00\n",
      "1      Location    43.326692   3.616612e-84\n",
      "2     Fuel_Type   263.467678  4.241112e-162\n",
      "3  Transmission  3613.451837   0.000000e+00\n",
      "4    Owner_Type    19.815982   8.696996e-13\n"
     ]
    }
   ],
   "source": [
    "from scipy.stats import f_oneway\n",
    "\n",
    "# 데이터프레임 로드 (여기서는 예시로 Car_raw 사용)\n",
    "# Car_raw = pd.read_csv(\"path_to_your_data.csv\")  # 실제 데이터 로드하는 부분\n",
    "\n",
    "# ANOVA를 사용할 범주형 변수 목록\n",
    "categorical_vars = ['Brand', 'Location', 'Fuel_Type', 'Transmission', 'Owner_Type']\n",
    "\n",
    "# ANOVA 결과 저장용 데이터프레임\n",
    "anova_results = pd.DataFrame(columns=['Category', 'F-statistic', 'p-value'])\n",
    "\n",
    "for cat in categorical_vars:\n",
    "    # 각 범주형 변수의 고유 값으로 그룹화하여 가격 데이터 추출\n",
    "    groups = [group['Price'].values for name, group in Car_raw.groupby(cat)]\n",
    "    \n",
    "    # ANOVA 수행\n",
    "    f_stat, p_val = f_oneway(*groups)\n",
    "    \n",
    "    # 결과 저장\n",
    "    anova_results = anova_results.append({\n",
    "        'Category': cat,\n",
    "        'F-statistic': f_stat,\n",
    "        'p-value': p_val\n",
    "    }, ignore_index=True)\n",
    "\n",
    "# 결과 출력\n",
    "print(anova_results)\n"
   ]
  },
  {
   "cell_type": "markdown",
   "id": "11dd006f",
   "metadata": {},
   "source": [
    "ANOVA 결과에 따르면, 모든 범주형 변수(Brand, Location, Fuel_Type, Transmission, Owner_Type)는 가격에 유의미한 영향을 미친다. 특히, Transmission의 F-통계량이 3613.45로 가장 높고 p-값이 0.000000으로 극히 낮다. 결론적으로, Transmission이 가격에 가장 큰 영향을 미치고, 그 다음으로 Brand, Fuel_Type, Location, Owner_Type의 순서로 영향을 미친다고 할 수 있다."
   ]
  },
  {
   "cell_type": "markdown",
   "id": "4548fa8f",
   "metadata": {},
   "source": [
    "# 상관분석"
   ]
  },
  {
   "cell_type": "code",
   "execution_count": 31,
   "id": "929afcec",
   "metadata": {},
   "outputs": [],
   "source": [
    "import pandas as pd\n",
    "import seaborn as sns\n",
    "import matplotlib.pyplot as plt"
   ]
  },
  {
   "cell_type": "code",
   "execution_count": 30,
   "id": "e9f89392",
   "metadata": {},
   "outputs": [
    {
     "name": "stdout",
     "output_type": "stream",
     "text": [
      "Year                 0.289879\n",
      "Kilometers_Driven   -0.163969\n",
      "Mileage             -0.325087\n",
      "Engine               0.631356\n",
      "Power                0.750653\n",
      "Seats                0.058058\n",
      "Price                1.000000\n",
      "Name: Price, dtype: float64\n"
     ]
    }
   ],
   "source": [
    "# 상관 분석\n",
    "correlation_matrix = Car_raw[['Year', 'Kilometers_Driven', 'Mileage', 'Engine', 'Power', 'Seats']].corr()\n",
    "\n",
    "# 결과 출력\n",
    "print(correlation_matrix['Price'])"
   ]
  },
  {
   "cell_type": "markdown",
   "id": "cd0592c8",
   "metadata": {},
   "source": [
    "Year: 상관계수 0.2899는 약한 양의 상관관계를 나타낸다. 이는 차량의 연식이 증가할수록 가격이 다소 상승하는 경향이 있지만, 그 관계는 강하지 않음을 의미한다.\n",
    "\n",
    "Kilometers_Driven: 상관계수 -0.1639로 약한 음의 상관관계를 보인다. 이는 주행 거리가 많아질수록 가격이 다소 하락하는 경향이 있음을 나타낸다.\n",
    "\n",
    "Mileage: 상관계수 -0.3251로 음의 상관관계가 있다. 이는 연비가 높을수록 가격이 낮아지는 경향이 있음을 의미한다. \n",
    "\n",
    "Engine: 상관계수 0.6314로 양의 상관관계를 보인다. 이는 엔진 크기가 클수록 차량 가격이 높아지는 경향이 있음을 나타낸다. \n",
    "\n",
    "Power: 상관계수 0.7507로 매우 강한 양의 상관관계를 나타낸다. 이는 차량의 출력이 높을수록 가격이 상승하는 경향이 매우 뚜렷하다는 것을 보여준다. \n",
    "\n",
    "Seats: 상관계수 0.0581로 매우 낮은 양의 상관관계를 보인다. 이는 차량의 좌석 수와 가격 간의 관계가 거의 없음을 나타내며, 좌석 수가 가격에 미치는 영향이 크지 않다는 것을 의미한다.\n",
    "\n"
   ]
  },
  {
   "cell_type": "code",
   "execution_count": 33,
   "id": "c78a22ea",
   "metadata": {},
   "outputs": [
    {
     "data": {
      "image/png": "[encoded data removed]",
      "text/plain": [
       "<Figure size 1000x800 with 2 Axes>"
      ]
     },
     "metadata": {},
     "output_type": "display_data"
    }
   ],
   "source": [
    "# 히트맵 시각화\n",
    "plt.figure(figsize=(10, 8))\n",
    "sns.heatmap(correlation_matrix, annot=True, cmap='coolwarm', fmt='.2f', square=True)\n",
    "plt.title('Correlation Matrix')\n",
    "plt.show()"
   ]
  },
  {
   "cell_type": "markdown",
   "id": "f539456d",
   "metadata": {},
   "source": [
    "상관관계의 강도: Power와 Engine이 가격과 강한 양의 상관관계를 보이며, Mileage는 가격과 음의 상관관계를 가지고 있다. Year와 Kilometers_Driven은 각각 약한 양의 및 음의 상관관계를 나타내며, Seats는 가격에 거의 영향을 미치지 않는 것으로 나타난다."
   ]
  }
 ],
 "metadata": {
  "kernelspec": {
   "display_name": "Python 3 (ipykernel)",
   "language": "python",
   "name": "python3"
  },
  "language_info": {
   "codemirror_mode": {
    "name": "ipython",
    "version": 3
   },
   "file_extension": ".py",
   "mimetype": "text/x-python",
   "name": "python",
   "nbconvert_exporter": "python",
   "pygments_lexer": "ipython3",
   "version": "3.10.9"
  }
 },
 "nbformat": 4,
 "nbformat_minor": 5
}
